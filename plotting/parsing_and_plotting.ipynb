{
 "cells": [
  {
   "cell_type": "code",
   "execution_count": 5,
   "id": "8dccbe68",
   "metadata": {},
   "outputs": [],
   "source": [
    "#!/usr/bin/env python\n",
    "# coding: utf-8\n",
    "\n",
    "# In[1]:\n",
    "\n",
    "\n",
    "from plotting_functions import *\n",
    "import math\n",
    "import csv\n",
    "import time\n",
    "from math import log\n",
    "import networkx as nx\n",
    "from os import listdir\n",
    "import random\n",
    "import io\n",
    "from io import StringIO\n",
    "import codecs\n",
    "import math\n",
    "from os.path import isfile, join\n",
    "#from geopy.distance.geodesic import vincenty\n",
    "# In[2]:\n",
    "from math import *\n",
    "from mpl_toolkits.axes_grid1.inset_locator import inset_axes, mark_inset, InsetPosition"
   ]
  },
  {
   "cell_type": "code",
   "execution_count": 30,
   "id": "3d20d8f7-ac60-4f6e-b2e0-9df416c0bc49",
   "metadata": {},
   "outputs": [
    {
     "ename": "ValueError",
     "evalue": "max() arg is an empty sequence",
     "output_type": "error",
     "traceback": [
      "\u001b[0;31m---------------------------------------------------------------------------\u001b[0m",
      "\u001b[0;31mValueError\u001b[0m                                Traceback (most recent call last)",
      "Input \u001b[0;32mIn [30]\u001b[0m, in \u001b[0;36m<module>\u001b[0;34m\u001b[0m\n\u001b[1;32m     72\u001b[0m τ_coh_values\u001b[38;5;241m.\u001b[39msort()\n\u001b[1;32m     73\u001b[0m scheme_keys \u001b[38;5;241m=\u001b[39m \u001b[38;5;28mlist\u001b[39m(scheme_keys)\n\u001b[1;32m     75\u001b[0m ploting_simple_y_as_x(\u001b[38;5;124m\"\u001b[39m\u001b[38;5;124mCoherence time (sec)\u001b[39m\u001b[38;5;124m\"\u001b[39m,\u001b[38;5;124m\"\u001b[39m\u001b[38;5;124mPercentage of satisfied workloads\u001b[39m\u001b[38;5;124m\"\u001b[39m,\n\u001b[1;32m     76\u001b[0m                         \u001b[38;5;241m18\u001b[39m, \u001b[38;5;241m18\u001b[39m, \u001b[38;5;241m14\u001b[39m,\n\u001b[1;32m     77\u001b[0m                       \u001b[38;5;241m14\u001b[39m, \u001b[38;5;241m0\u001b[39m, \u001b[38;5;241m0\u001b[39m,\n\u001b[0;32m---> 78\u001b[0m                       \u001b[38;5;241m0\u001b[39m,\u001b[38;5;241m0\u001b[39m,\u001b[38;5;28;01mFalse\u001b[39;00m,[],\u001b[38;5;28;43mmax\u001b[39;49m\u001b[43m(\u001b[49m\u001b[43mselected_values\u001b[49m\u001b[43m)\u001b[49m\u001b[38;5;241m+\u001b[39m\u001b[38;5;241m10\u001b[39m,\n\u001b[1;32m     79\u001b[0m                       \n\u001b[1;32m     80\u001b[0m                       \u001b[38;5;28mlist\u001b[39m(scheme_keys),\n\u001b[1;32m     81\u001b[0m                       each_scheme_each_coherence_time_workloads_percentage,\n\u001b[1;32m     82\u001b[0m                       τ_coh_values,τ_coh_values,\n\u001b[1;32m     83\u001b[0m                       \u001b[38;5;28;01mFalse\u001b[39;00m,\u001b[38;5;28;01mTrue\u001b[39;00m,\u001b[38;5;28;01mTrue\u001b[39;00m,\u001b[38;5;241m6\u001b[39m,\u001b[38;5;241m2\u001b[39m,\n\u001b[1;32m     84\u001b[0m                       \u001b[38;5;124m\"\u001b[39m\u001b[38;5;124mplots/QSN_repeater_chain_workload_as_coh_time.pdf\u001b[39m\u001b[38;5;124m\"\u001b[39m,\u001b[38;5;28;01mTrue\u001b[39;00m,\u001b[38;5;241m2\u001b[39m,\u001b[38;5;241m6.4\u001b[39m,\u001b[38;5;241m3.8\u001b[39m,\u001b[38;5;28;01mFalse\u001b[39;00m)\n",
      "\u001b[0;31mValueError\u001b[0m: max() arg is an empty sequence"
     ]
    }
   ],
   "source": [
    "\n",
    "scheme_keys = set([])\n",
    "τ_coh_values  =set([])\n",
    "each_scheme_each_coherence_time_all_workloads = {}\n",
    "each_scheme_each_coherence_time_workloads  ={}\n",
    "\n",
    "# result_file_path = \"../../QSN_results/QSN_resultsv3.csv\" #for intermediate edge capacity 300 EPRps\n",
    "# result_file_path = \"../../QSN_results/QSN_resultsv2.csv\" #for intermediate edge capacity 100 EPRps\n",
    "result_file_path = \"../../QSN_results/QSN_results_final.csv\" #for intermediate edge capacity 100 EPRps\n",
    "result_file_path = \"../../QSN_results/QSN_results_finalv2.csv\" #for intermediate edge capacity 100 EPRps\n",
    "\n",
    "\n",
    "with open(result_file_path, \"r\") as f:\n",
    "    reader = csv.reader( (line.replace('\\0','') for line in f) )\n",
    "    for line in reader:#t_max,i,request_fidelity_threshold,\n",
    "#                                           storage_block_threshold,\n",
    "#                                           storage_capacity,τ_coh,service_delay\n",
    "        # print()\n",
    "        t_max = int(line[0])\n",
    "        i = line[1]\n",
    "        request_fidelity_threshold= float(line[2])\n",
    "        storage_block_threshold= float(line[3])\n",
    "        storage_capacity = int(line[4])\n",
    "        τ_coh = float(line[5])\n",
    "        delta = int(line[6])\n",
    "        objective_value = float(line[7])\n",
    "#         print(\"objective_value\",objective_value)\n",
    "        if objective_value==-1:\n",
    "            objective_value = 0\n",
    "        else:\n",
    "            objective_value = 1\n",
    "        if  ( t_max in [10] and request_fidelity_threshold in [0.8]  and \n",
    "             storage_block_threshold in [0.7,0.8,0.85,0.9]\n",
    "            ):\n",
    "            scheme = \"Strg_Fth = \"+str(storage_block_threshold)+\",Stg_C=\"+str(storage_capacity)+\",delat\"+str(delta)\n",
    "            try:\n",
    "                each_scheme_each_coherence_time_workloads[scheme][τ_coh]+=objective_value\n",
    "            except:\n",
    "                try:\n",
    "                    each_scheme_each_coherence_time_workloads[scheme][τ_coh]= objective_value\n",
    "                except:\n",
    "                    each_scheme_each_coherence_time_workloads[scheme]={}\n",
    "                    each_scheme_each_coherence_time_workloads[scheme][τ_coh]=objective_value\n",
    "            try:\n",
    "                each_scheme_each_coherence_time_all_workloads[scheme][τ_coh]+=1\n",
    "            except:\n",
    "                try:\n",
    "                    each_scheme_each_coherence_time_all_workloads[scheme][τ_coh]= 1\n",
    "                except:\n",
    "                    each_scheme_each_coherence_time_all_workloads[scheme]={}\n",
    "                    each_scheme_each_coherence_time_all_workloads[scheme][τ_coh]=1\n",
    "         \n",
    "            τ_coh_values.add(τ_coh)\n",
    "            if scheme not in scheme_keys:\n",
    "                scheme_keys.add(scheme)\n",
    "\n",
    "\n",
    "selected_values = []\n",
    "each_scheme_each_coherence_time_workloads_percentage = {}\n",
    "for scheme,τ_coh_value_satisfied_number in each_scheme_each_coherence_time_workloads.items():\n",
    "    for τ_coh,satisfied_number in τ_coh_value_satisfied_number.items():\n",
    "        \n",
    "        percentage = satisfied_number/each_scheme_each_coherence_time_all_workloads[scheme][τ_coh]*100\n",
    "        try:\n",
    "            each_scheme_each_coherence_time_workloads_percentage[scheme][τ_coh] = percentage\n",
    "        except:\n",
    "            each_scheme_each_coherence_time_workloads_percentage[scheme]  ={}\n",
    "            each_scheme_each_coherence_time_workloads_percentage[scheme][τ_coh]=percentage\n",
    "        selected_values.append(percentage)\n",
    "        \n",
    "        \n",
    "τ_coh_values = list(τ_coh_values)\n",
    "τ_coh_values.sort()\n",
    "scheme_keys = list(scheme_keys)\n",
    "\n",
    "ploting_simple_y_as_x(\"Coherence time (sec)\",\"Percentage of satisfied workloads\",\n",
    "                        18, 18, 14,\n",
    "                      14, 0, 0,\n",
    "                      0,0,False,[],max(selected_values)+10,\n",
    "                      \n",
    "                      list(scheme_keys),\n",
    "                      each_scheme_each_coherence_time_workloads_percentage,\n",
    "                      τ_coh_values,τ_coh_values,\n",
    "                      False,True,True,6,2,\n",
    "                      \"plots/QSN_repeater_chain_workload_as_coh_time.pdf\",True,2,6.4,3.8,False)"
   ]
  },
  {
   "cell_type": "code",
   "execution_count": null,
   "id": "94370336",
   "metadata": {},
   "outputs": [],
   "source": []
  },
  {
   "cell_type": "code",
   "execution_count": 62,
   "id": "75ab7448-1ec0-4dc9-938a-ffcab5895ffb",
   "metadata": {},
   "outputs": [
    {
     "name": "stdout",
     "output_type": "stream",
     "text": [
      "we get the values for scheme Req.Fth=0.6,Strg_Fth = 0.7,Stg_C=100,delat =10 point 10.0 600.0\n",
      "we get the values for scheme Req.Fth=0.6,Strg_Fth = 0.7,Stg_C=100,delat =10 point 11.288378916846888 600.0\n",
      "we get the values for scheme Req.Fth=0.6,Strg_Fth = 0.7,Stg_C=100,delat =10 point 12.742749857031333 600.000001002524\n",
      "we get the values for scheme Req.Fth=0.6,Strg_Fth = 0.7,Stg_C=100,delat =10 point 14.38449888287663 600.0000538083774\n",
      "we get the values for scheme Req.Fth=0.6,Strg_Fth = 0.7,Stg_C=100,delat =10 point 16.237767391887218 600.0002353120465\n",
      "we get the values for scheme Req.Fth=0.6,Strg_Fth = 0.7,Stg_C=100,delat =10 point 18.329807108324356 600.0008531428377\n",
      "we get the values for scheme Req.Fth=0.6,Strg_Fth = 0.7,Stg_C=100,delat =10 point 20.6913808111479 600.0028521875463\n",
      "we get the values for scheme Req.Fth=0.6,Strg_Fth = 0.7,Stg_C=100,delat =10 point 23.357214690901227 600.0095093974903\n",
      "we get the values for scheme Req.Fth=0.6,Strg_Fth = 0.7,Stg_C=100,delat =10 point 26.366508987303583 600.0106617747283\n",
      "we get the values for scheme Req.Fth=0.6,Strg_Fth = 0.7,Stg_C=100,delat =10 point 29.763514416313175 600.0317895980172\n",
      "we get the values for scheme Req.Fth=0.6,Strg_Fth = 0.7,Stg_C=100,delat =10 point 33.59818286283781 600.033945456599\n",
      "we get the values for scheme Req.Fth=0.6,Strg_Fth = 0.7,Stg_C=100,delat =10 point 37.926901907322495 600.0361853362282\n",
      "we get the values for scheme Req.Fth=0.6,Strg_Fth = 0.7,Stg_C=100,delat =10 point 42.81332398719393 600.0384688072488\n",
      "we get the values for scheme Req.Fth=0.6,Strg_Fth = 0.7,Stg_C=100,delat =10 point 48.32930238571752 600.1126750713776\n",
      "we get the values for scheme Req.Fth=0.6,Strg_Fth = 0.7,Stg_C=100,delat =10 point 54.5559478116852 600.1160254725391\n",
      "we get the values for scheme Req.Fth=0.6,Strg_Fth = 0.7,Stg_C=100,delat =10 point 61.58482110660264 600.1192777037006\n",
      "we get the values for scheme Req.Fth=0.6,Strg_Fth = 0.7,Stg_C=100,delat =10 point 69.51927961775604 600.1224036666061\n",
      "we get the values for scheme Req.Fth=0.6,Strg_Fth = 0.7,Stg_C=100,delat =10 point 78.47599703514611 600.1253816847909\n",
      "we get the values for scheme Req.Fth=0.6,Strg_Fth = 0.7,Stg_C=100,delat =10 point 88.58667904100822 600.1281962029792\n",
      "we get the values for scheme Req.Fth=0.6,Strg_Fth = 0.7,Stg_C=100,delat =10 point 100.0 600.1308372369749\n",
      "we get the values for scheme Req.Fth=0.6,Strg_Fth = 0.7,Stg_C=200,delat =10 point 10.0 600.0\n",
      "we get the values for scheme Req.Fth=0.6,Strg_Fth = 0.7,Stg_C=200,delat =10 point 11.288378916846888 600.0\n",
      "we get the values for scheme Req.Fth=0.6,Strg_Fth = 0.7,Stg_C=200,delat =10 point 12.742749857031333 600.0000020050481\n",
      "we get the values for scheme Req.Fth=0.6,Strg_Fth = 0.7,Stg_C=200,delat =2 point 10.0 601.1362265107176\n",
      "we get the values for scheme Req.Fth=0.6,Strg_Fth = 0.7,Stg_C=200,delat =2 point 11.288378916846888 601.1694873067609\n",
      "we get the values for scheme Req.Fth=0.6,Strg_Fth = 0.7,Stg_C=200,delat =2 point 12.742749857031333 601.2016810848594\n",
      "we get the values for scheme Req.Fth=0.6,Strg_Fth = 0.7,Stg_C=200,delat =2 point 14.38449888287663 601.2325449858877\n",
      "we get the values for scheme Req.Fth=0.6,Strg_Fth = 0.7,Stg_C=100,delat =2 point 10.0 600.5681132553588\n",
      "we get the values for scheme Req.Fth=0.6,Strg_Fth = 0.7,Stg_C=100,delat =2 point 11.288378916846888 600.5847436533803\n",
      "we get the values for scheme Req.Fth=0.6,Strg_Fth = 0.7,Stg_C=100,delat =2 point 12.742749857031333 600.6008405424296\n",
      "we get the values for scheme Req.Fth=0.6,Strg_Fth = 0.7,Stg_C=100,delat =2 point 14.38449888287663 600.6162724929438\n",
      "we get the values for scheme Req.Fth=0.6,Strg_Fth = 0.7,Stg_C=100,delat =2 point 16.237767391887218 600.6309399210079\n",
      "we get the values for scheme Req.Fth=0.6,Strg_Fth = 0.7,Stg_C=100,delat =2 point 18.329807108324356 600.6447731797643\n",
      "we get the values for scheme Req.Fth=0.6,Strg_Fth = 0.7,Stg_C=100,delat =2 point 20.6913808111479 600.6577295540612\n",
      "we get the values for scheme Req.Fth=0.6,Strg_Fth = 0.7,Stg_C=100,delat =2 point 23.357214690901227 600.669789643698\n",
      "we get the values for scheme Req.Fth=0.6,Strg_Fth = 0.7,Stg_C=100,delat =2 point 26.366508987303583 600.6809535228967\n",
      "we get the values for scheme Req.Fth=0.6,Strg_Fth = 0.7,Stg_C=100,delat =2 point 29.763514416313175 600.6912369616136\n",
      "we get the values for scheme Req.Fth=0.6,Strg_Fth = 0.7,Stg_C=100,delat =2 point 33.59818286283781 600.7006679012629\n",
      "we get the values for scheme Req.Fth=0.6,Strg_Fth = 0.7,Stg_C=100,delat =2 point 37.926901907322495 602.029115623699\n",
      "we get the values for scheme Req.Fth=0.6,Strg_Fth = 0.7,Stg_C=100,delat =2 point 42.81332398719393 602.0391223070496\n",
      "we get the values for scheme Req.Fth=0.6,Strg_Fth = 0.7,Stg_C=100,delat =2 point 48.32930238571752 602.0481539810758\n",
      "we get the values for scheme Req.Fth=0.6,Strg_Fth = 0.7,Stg_C=100,delat =2 point 54.5559478116852 602.0562884950023\n",
      "we get the values for scheme Req.Fth=0.6,Strg_Fth = 0.7,Stg_C=100,delat =2 point 61.58482110660264 602.063601270833\n",
      "we get the values for scheme Req.Fth=0.6,Strg_Fth = 0.7,Stg_C=100,delat =2 point 69.51927961775604 602.0701644026755\n",
      "we get the values for scheme Req.Fth=0.6,Strg_Fth = 0.7,Stg_C=100,delat =2 point 78.47599703514611 602.0760460523039\n",
      "we get the values for scheme Req.Fth=0.6,Strg_Fth = 0.7,Stg_C=100,delat =2 point 88.58667904100822 602.0813100821035\n",
      "we get the values for scheme Req.Fth=0.6,Strg_Fth = 0.7,Stg_C=100,delat =2 point 100.0 602.0860158742097\n"
     ]
    },
    {
     "name": "stderr",
     "output_type": "stream",
     "text": [
      "/Users/shahrooz/PhD_research_projects/QSN/plotting/plotting_functions.py:335: UserWarning: Attempted to set non-positive bottom ylim on a log-scaled axis.\n",
      "Invalid limit will be ignored.\n",
      "  plt.ylim(y_axis_provided_min_value, y_axis_provided_max_value)\n"
     ]
    },
    {
     "data": {
      "image/png": "[encoded data removed]",
      "text/plain": [
       "<Figure size 820.8x273.6 with 1 Axes>"
      ]
     },
     "metadata": {
      "needs_background": "light"
     },
     "output_type": "display_data"
    }
   ],
   "source": [
    "\n",
    "scheme_keys = set([])\n",
    "τ_coh_values  =set([])\n",
    "each_scheme_each_coherence_time_all_workloads = {}\n",
    "each_scheme_each_coherence_time_workloads  ={}\n",
    "\n",
    "# result_file_path = \"../../QSN_results/QSN_resultsv3.csv\" #for intermediate edge capacity 300 EPRps\n",
    "# result_file_path = \"../../QSN_results/QSN_resultsv2.csv\" #for intermediate edge capacity 100 EPRps\n",
    "result_file_path = \"../../QSN_results/QSN_results_final_maximizing_rate.csv\" #for intermediate edge capacity 100 EPRps\n",
    "\n",
    "\n",
    "with open(result_file_path, \"r\") as f:\n",
    "    reader = csv.reader( (line.replace('\\0','') for line in f) )\n",
    "    for line in reader:#t_max,i,request_fidelity_threshold,\n",
    "#                                           storage_block_threshold,\n",
    "#                                           storage_capacity,τ_coh,service_delay\n",
    "        # print()\n",
    "        t_max = int(line[0])\n",
    "        i = line[1]\n",
    "        request_fidelity_threshold= float(line[2])\n",
    "        storage_block_threshold= float(line[3])\n",
    "        storage_capacity = int(line[4])\n",
    "        τ_coh = float(line[5])\n",
    "        delta = int(line[6])\n",
    "        objective_value = float(line[7])\n",
    "#         print(\"objective_value\",objective_value)\n",
    "        \n",
    "        if  ( t_max in [10] and request_fidelity_threshold in [0.6,0.8]  and \n",
    "             storage_block_threshold in [0.7,0.8,0.85,0.9] and storage_block_threshold in [0.9,0.7] and \n",
    "             delta in [2,10] \n",
    "            ):\n",
    "            scheme = \"Req.Fth=\"+str(request_fidelity_threshold)+\",Strg_Fth = \"+str(storage_block_threshold)+\",Stg_C=\"+str(storage_capacity)+\",delat =\"+str(delta)\n",
    "            try:\n",
    "                each_scheme_each_coherence_time_workloads[scheme][τ_coh].append(objective_value)\n",
    "            except:\n",
    "                try:\n",
    "                    each_scheme_each_coherence_time_workloads[scheme][τ_coh]= [objective_value]\n",
    "                except:\n",
    "                    each_scheme_each_coherence_time_workloads[scheme]={}\n",
    "                    each_scheme_each_coherence_time_workloads[scheme][τ_coh]=[objective_value]\n",
    "            \n",
    "         \n",
    "            τ_coh_values.add(τ_coh)\n",
    "            if scheme not in scheme_keys:\n",
    "                scheme_keys.add(scheme)\n",
    "\n",
    "\n",
    "selected_values = []\n",
    "each_scheme_each_coherence_time_workloads_percentage = {}\n",
    "for scheme,τ_coh_value_satisfied_number in each_scheme_each_coherence_time_workloads.items():\n",
    "    for τ_coh,values in τ_coh_value_satisfied_number.items():\n",
    "        \n",
    "        avg_EGR = sum(values)/len(values)\n",
    "        try:\n",
    "            each_scheme_each_coherence_time_workloads_percentage[scheme][τ_coh] = avg_EGR\n",
    "        except:\n",
    "            each_scheme_each_coherence_time_workloads_percentage[scheme]  ={}\n",
    "            each_scheme_each_coherence_time_workloads_percentage[scheme][τ_coh]=avg_EGR\n",
    "        selected_values.append(avg_EGR)\n",
    "        \n",
    "        \n",
    "τ_coh_values = list(τ_coh_values)\n",
    "τ_coh_values.sort()\n",
    "scheme_keys = list(scheme_keys)\n",
    "\n",
    "ploting_simple_y_as_x(\"Coherence time (sec)\",\"Ebit rate\",\n",
    "                        18, 18, 14,\n",
    "                      14, 0, 0,\n",
    "                      0,0,False,[],max(selected_values),\n",
    "                      \n",
    "                      list(scheme_keys),\n",
    "                      each_scheme_each_coherence_time_workloads_percentage,\n",
    "                      τ_coh_values,τ_coh_values,\n",
    "                      True,True,True,1,14,\n",
    "                      \"plots/QSN_repeater_chain_ebit_as_coh_time.pdf\",True,2,11.4,3.8,True)"
   ]
  },
  {
   "cell_type": "code",
   "execution_count": 57,
   "id": "17d4de01-6e06-4ef9-8f59-1d4d880b0a97",
   "metadata": {},
   "outputs": [
    {
     "name": "stdout",
     "output_type": "stream",
     "text": [
      "0.9 0.7571386866154437\n",
      "0.9 0.8830087569660067\n"
     ]
    }
   ],
   "source": [
    "delat_value = 2\n",
    "τ_coh = 10\n",
    "f = 1/2+1/2*(np.exp(-2*delat_value/τ_coh))\n",
    "F = 0.9\n",
    "W = (4*F-1)/3\n",
    "Fe2e = W*f+(1-W)/4\n",
    "print(F,Fe2e)\n",
    "delat_value = 2\n",
    "τ_coh = 100\n",
    "f = 1/2+1/2*(np.exp(-2*delat_value/τ_coh))\n",
    "F = 0.9\n",
    "W = (4*F-1)/3\n",
    "Fe2e = W*f+(1-W)/4\n",
    "print(F,Fe2e)\n"
   ]
  },
  {
   "cell_type": "code",
   "execution_count": 9,
   "id": "51016328-62f3-4742-b40b-e9fbb67d0a9a",
   "metadata": {},
   "outputs": [],
   "source": []
  },
  {
   "cell_type": "code",
   "execution_count": 10,
   "id": "45c36191-9a0c-4b8f-841f-d06931d8bec8",
   "metadata": {},
   "outputs": [],
   "source": []
  },
  {
   "cell_type": "code",
   "execution_count": null,
   "id": "8dbe2183-2742-4425-a04c-4baac8f402bc",
   "metadata": {},
   "outputs": [],
   "source": []
  },
  {
   "cell_type": "code",
   "execution_count": null,
   "id": "9df4a68b-d49c-4048-b713-d8a23e37f0c8",
   "metadata": {},
   "outputs": [],
   "source": []
  },
  {
   "cell_type": "code",
   "execution_count": null,
   "id": "23f9c3ff-06cc-4209-8f28-951a8301f0e2",
   "metadata": {},
   "outputs": [],
   "source": []
  },
  {
   "cell_type": "code",
   "execution_count": null,
   "id": "868eb1b7-3936-4147-9faa-7ff82860e7e7",
   "metadata": {},
   "outputs": [],
   "source": []
  },
  {
   "cell_type": "code",
   "execution_count": null,
   "id": "a91723e0-80eb-490e-af4b-cb5294dc082f",
   "metadata": {},
   "outputs": [],
   "source": []
  },
  {
   "cell_type": "code",
   "execution_count": null,
   "id": "039f2760-51aa-49d2-a94f-4c9d72ef8120",
   "metadata": {},
   "outputs": [],
   "source": []
  },
  {
   "cell_type": "code",
   "execution_count": null,
   "id": "ed3ca0a7-2439-4263-8813-ab1aa08d0845",
   "metadata": {},
   "outputs": [],
   "source": []
  },
  {
   "cell_type": "code",
   "execution_count": null,
   "id": "62668f6d-3d05-4b0d-adc4-3528054945f2",
   "metadata": {},
   "outputs": [],
   "source": []
  },
  {
   "cell_type": "code",
   "execution_count": null,
   "id": "deb43adf-67f7-4a99-b72c-84756e3ae448",
   "metadata": {},
   "outputs": [],
   "source": []
  },
  {
   "cell_type": "code",
   "execution_count": null,
   "id": "9077b182-a355-4a23-8802-371043e18725",
   "metadata": {},
   "outputs": [],
   "source": []
  },
  {
   "cell_type": "code",
   "execution_count": null,
   "id": "4c7a0e90-0296-47c1-96c8-2220e7453734",
   "metadata": {},
   "outputs": [],
   "source": []
  },
  {
   "cell_type": "code",
   "execution_count": null,
   "id": "55d5afa6-243e-4f6f-986c-2aa4bc324b11",
   "metadata": {},
   "outputs": [],
   "source": []
  },
  {
   "cell_type": "code",
   "execution_count": null,
   "id": "32e1a103-7935-4f0b-bfd4-d046681b2d90",
   "metadata": {},
   "outputs": [],
   "source": []
  },
  {
   "cell_type": "code",
   "execution_count": null,
   "id": "982fcd42-bcee-4068-8d19-419b2b50cf2b",
   "metadata": {},
   "outputs": [],
   "source": []
  },
  {
   "cell_type": "code",
   "execution_count": null,
   "id": "0bc65731-239b-4c69-b9ea-dfe9259b04c2",
   "metadata": {},
   "outputs": [],
   "source": []
  },
  {
   "cell_type": "code",
   "execution_count": null,
   "id": "f31bd75e-2fb1-4162-bbfc-1b9d8d89e2ef",
   "metadata": {},
   "outputs": [],
   "source": []
  },
  {
   "cell_type": "code",
   "execution_count": null,
   "id": "d7b3e163-0ee6-47d9-9470-9a3302ecfc73",
   "metadata": {},
   "outputs": [],
   "source": []
  },
  {
   "cell_type": "code",
   "execution_count": null,
   "id": "127827e2-4232-429f-afff-74d5d2241ee9",
   "metadata": {},
   "outputs": [],
   "source": []
  },
  {
   "cell_type": "code",
   "execution_count": null,
   "id": "972f5b41-8ebe-49c3-a762-9321931aafc1",
   "metadata": {},
   "outputs": [],
   "source": []
  },
  {
   "cell_type": "code",
   "execution_count": null,
   "id": "01353392-936e-419c-9429-e87ffe2428e9",
   "metadata": {},
   "outputs": [],
   "source": []
  },
  {
   "cell_type": "code",
   "execution_count": null,
   "id": "65d1e6e1-dc94-4902-b72b-d36f1e476341",
   "metadata": {},
   "outputs": [],
   "source": []
  },
  {
   "cell_type": "code",
   "execution_count": null,
   "id": "02a78216-d245-47e3-b279-93c6b86a158a",
   "metadata": {},
   "outputs": [],
   "source": []
  },
  {
   "cell_type": "code",
   "execution_count": null,
   "id": "f8695cc6-b9b0-4f89-8e79-f34200d986d5",
   "metadata": {},
   "outputs": [],
   "source": []
  },
  {
   "cell_type": "code",
   "execution_count": null,
   "id": "2905e4e2",
   "metadata": {},
   "outputs": [],
   "source": []
  },
  {
   "cell_type": "code",
   "execution_count": null,
   "id": "6ecf23ac",
   "metadata": {},
   "outputs": [],
   "source": []
  },
  {
   "cell_type": "code",
   "execution_count": null,
   "id": "24b8dda4",
   "metadata": {},
   "outputs": [],
   "source": []
  },
  {
   "cell_type": "code",
   "execution_count": null,
   "id": "1308dc13",
   "metadata": {},
   "outputs": [],
   "source": []
  },
  {
   "cell_type": "code",
   "execution_count": null,
   "id": "9144d7ac",
   "metadata": {},
   "outputs": [],
   "source": []
  },
  {
   "cell_type": "code",
   "execution_count": null,
   "id": "39bb4d1d",
   "metadata": {},
   "outputs": [],
   "source": []
  },
  {
   "cell_type": "code",
   "execution_count": null,
   "id": "ff2efa8c",
   "metadata": {},
   "outputs": [],
   "source": []
  },
  {
   "cell_type": "code",
   "execution_count": null,
   "id": "571d1c4c",
   "metadata": {},
   "outputs": [],
   "source": []
  },
  {
   "cell_type": "code",
   "execution_count": null,
   "id": "7928ec52",
   "metadata": {},
   "outputs": [],
   "source": []
  },
  {
   "cell_type": "code",
   "execution_count": null,
   "id": "d582a8cb",
   "metadata": {},
   "outputs": [],
   "source": []
  },
  {
   "cell_type": "code",
   "execution_count": null,
   "id": "e00602ae",
   "metadata": {},
   "outputs": [],
   "source": []
  },
  {
   "cell_type": "code",
   "execution_count": null,
   "id": "6ddbadb3",
   "metadata": {},
   "outputs": [],
   "source": []
  },
  {
   "cell_type": "code",
   "execution_count": null,
   "id": "666c4d82",
   "metadata": {},
   "outputs": [],
   "source": []
  },
  {
   "cell_type": "code",
   "execution_count": null,
   "id": "641ee316",
   "metadata": {},
   "outputs": [],
   "source": []
  },
  {
   "cell_type": "code",
   "execution_count": null,
   "id": "5929c1ef",
   "metadata": {},
   "outputs": [],
   "source": []
  },
  {
   "cell_type": "code",
   "execution_count": null,
   "id": "8c0f1810",
   "metadata": {},
   "outputs": [],
   "source": []
  },
  {
   "cell_type": "code",
   "execution_count": null,
   "id": "e1017fbd",
   "metadata": {
    "scrolled": true
   },
   "outputs": [],
   "source": []
  },
  {
   "cell_type": "code",
   "execution_count": null,
   "id": "8a0be516",
   "metadata": {},
   "outputs": [],
   "source": []
  },
  {
   "cell_type": "code",
   "execution_count": null,
   "id": "465ec2a2",
   "metadata": {},
   "outputs": [],
   "source": []
  },
  {
   "cell_type": "code",
   "execution_count": null,
   "id": "1f431703",
   "metadata": {},
   "outputs": [],
   "source": []
  },
  {
   "cell_type": "code",
   "execution_count": null,
   "id": "dd5118be",
   "metadata": {},
   "outputs": [],
   "source": []
  },
  {
   "cell_type": "code",
   "execution_count": null,
   "id": "0ed2af59",
   "metadata": {},
   "outputs": [],
   "source": []
  },
  {
   "cell_type": "code",
   "execution_count": null,
   "id": "81e04dce",
   "metadata": {},
   "outputs": [],
   "source": []
  },
  {
   "cell_type": "code",
   "execution_count": null,
   "id": "7e8a10ad",
   "metadata": {},
   "outputs": [],
   "source": []
  },
  {
   "cell_type": "code",
   "execution_count": null,
   "id": "b18261a4",
   "metadata": {},
   "outputs": [],
   "source": []
  },
  {
   "cell_type": "code",
   "execution_count": null,
   "id": "fe40b2a0",
   "metadata": {},
   "outputs": [],
   "source": []
  },
  {
   "cell_type": "code",
   "execution_count": null,
   "id": "a4e0b599",
   "metadata": {},
   "outputs": [],
   "source": []
  },
  {
   "cell_type": "code",
   "execution_count": null,
   "id": "1d2233a7",
   "metadata": {},
   "outputs": [],
   "source": []
  },
  {
   "cell_type": "code",
   "execution_count": null,
   "id": "56f675cd",
   "metadata": {},
   "outputs": [],
   "source": []
  },
  {
   "cell_type": "code",
   "execution_count": null,
   "id": "8e992cf8",
   "metadata": {},
   "outputs": [],
   "source": []
  },
  {
   "cell_type": "code",
   "execution_count": null,
   "id": "ac7ade4a",
   "metadata": {},
   "outputs": [],
   "source": []
  },
  {
   "cell_type": "code",
   "execution_count": null,
   "id": "3bf22974",
   "metadata": {},
   "outputs": [],
   "source": []
  },
  {
   "cell_type": "code",
   "execution_count": null,
   "id": "4418f2b1",
   "metadata": {},
   "outputs": [],
   "source": []
  },
  {
   "cell_type": "code",
   "execution_count": null,
   "id": "08ba65d8",
   "metadata": {},
   "outputs": [],
   "source": []
  },
  {
   "cell_type": "code",
   "execution_count": null,
   "id": "4f20c2f5",
   "metadata": {},
   "outputs": [],
   "source": []
  },
  {
   "cell_type": "code",
   "execution_count": null,
   "id": "a3ca6688",
   "metadata": {},
   "outputs": [],
   "source": []
  },
  {
   "cell_type": "code",
   "execution_count": null,
   "id": "fe7084b2",
   "metadata": {},
   "outputs": [],
   "source": []
  },
  {
   "cell_type": "code",
   "execution_count": null,
   "id": "86c006a3",
   "metadata": {},
   "outputs": [],
   "source": []
  },
  {
   "cell_type": "code",
   "execution_count": null,
   "id": "ea2043b0",
   "metadata": {},
   "outputs": [],
   "source": []
  },
  {
   "cell_type": "code",
   "execution_count": null,
   "id": "9895cfa9",
   "metadata": {},
   "outputs": [],
   "source": []
  },
  {
   "cell_type": "code",
   "execution_count": null,
   "id": "d7a704a5",
   "metadata": {},
   "outputs": [],
   "source": []
  },
  {
   "cell_type": "code",
   "execution_count": null,
   "id": "01b7d36a",
   "metadata": {},
   "outputs": [],
   "source": []
  },
  {
   "cell_type": "code",
   "execution_count": null,
   "id": "47e88dcd",
   "metadata": {},
   "outputs": [],
   "source": []
  },
  {
   "cell_type": "code",
   "execution_count": null,
   "id": "f7b5fcd8",
   "metadata": {},
   "outputs": [],
   "source": []
  },
  {
   "cell_type": "code",
   "execution_count": null,
   "id": "117aa392",
   "metadata": {},
   "outputs": [],
   "source": []
  },
  {
   "cell_type": "code",
   "execution_count": null,
   "id": "d22194c6",
   "metadata": {},
   "outputs": [],
   "source": []
  },
  {
   "cell_type": "code",
   "execution_count": null,
   "id": "4770ad26",
   "metadata": {},
   "outputs": [],
   "source": []
  },
  {
   "cell_type": "code",
   "execution_count": null,
   "id": "a611d49c",
   "metadata": {},
   "outputs": [],
   "source": []
  },
  {
   "cell_type": "code",
   "execution_count": null,
   "id": "e9f6c434",
   "metadata": {},
   "outputs": [],
   "source": []
  },
  {
   "cell_type": "code",
   "execution_count": null,
   "id": "cd31deba",
   "metadata": {},
   "outputs": [],
   "source": []
  },
  {
   "cell_type": "code",
   "execution_count": null,
   "id": "ffd56a8f",
   "metadata": {},
   "outputs": [],
   "source": []
  },
  {
   "cell_type": "code",
   "execution_count": null,
   "id": "1abe7560",
   "metadata": {},
   "outputs": [],
   "source": []
  },
  {
   "cell_type": "code",
   "execution_count": null,
   "id": "7d5e43c7",
   "metadata": {},
   "outputs": [],
   "source": []
  },
  {
   "cell_type": "code",
   "execution_count": null,
   "id": "18ad2144",
   "metadata": {},
   "outputs": [],
   "source": []
  },
  {
   "cell_type": "code",
   "execution_count": null,
   "id": "f9cdc9c8",
   "metadata": {},
   "outputs": [],
   "source": []
  },
  {
   "cell_type": "code",
   "execution_count": null,
   "id": "e470d270",
   "metadata": {},
   "outputs": [],
   "source": []
  },
  {
   "cell_type": "code",
   "execution_count": null,
   "id": "6b356033",
   "metadata": {},
   "outputs": [],
   "source": []
  },
  {
   "cell_type": "code",
   "execution_count": null,
   "id": "4eba8aca",
   "metadata": {},
   "outputs": [],
   "source": []
  },
  {
   "cell_type": "code",
   "execution_count": null,
   "id": "5fec45ce",
   "metadata": {},
   "outputs": [],
   "source": []
  },
  {
   "cell_type": "code",
   "execution_count": null,
   "id": "44949884",
   "metadata": {},
   "outputs": [],
   "source": []
  },
  {
   "cell_type": "code",
   "execution_count": null,
   "id": "e12172fc",
   "metadata": {},
   "outputs": [],
   "source": []
  },
  {
   "cell_type": "code",
   "execution_count": null,
   "id": "aefcd44a",
   "metadata": {},
   "outputs": [],
   "source": []
  },
  {
   "cell_type": "code",
   "execution_count": null,
   "id": "6fcd87e8",
   "metadata": {},
   "outputs": [],
   "source": []
  },
  {
   "cell_type": "code",
   "execution_count": null,
   "id": "7f320f48",
   "metadata": {},
   "outputs": [],
   "source": []
  },
  {
   "cell_type": "code",
   "execution_count": null,
   "id": "8cf1c6e4",
   "metadata": {},
   "outputs": [],
   "source": []
  },
  {
   "cell_type": "code",
   "execution_count": null,
   "id": "05e7e600",
   "metadata": {},
   "outputs": [],
   "source": []
  },
  {
   "cell_type": "code",
   "execution_count": null,
   "id": "c70a0b8d",
   "metadata": {},
   "outputs": [],
   "source": []
  },
  {
   "cell_type": "code",
   "execution_count": null,
   "id": "9254fa07",
   "metadata": {},
   "outputs": [],
   "source": []
  },
  {
   "cell_type": "code",
   "execution_count": null,
   "id": "171a0f56",
   "metadata": {},
   "outputs": [],
   "source": []
  },
  {
   "cell_type": "code",
   "execution_count": null,
   "id": "c71687d6",
   "metadata": {},
   "outputs": [],
   "source": []
  },
  {
   "cell_type": "code",
   "execution_count": null,
   "id": "6ffebfca",
   "metadata": {},
   "outputs": [],
   "source": []
  },
  {
   "cell_type": "code",
   "execution_count": null,
   "id": "12b1b8ca",
   "metadata": {},
   "outputs": [],
   "source": []
  },
  {
   "cell_type": "code",
   "execution_count": null,
   "id": "c2573fc5",
   "metadata": {},
   "outputs": [],
   "source": []
  },
  {
   "cell_type": "code",
   "execution_count": null,
   "id": "ce755509",
   "metadata": {},
   "outputs": [],
   "source": []
  },
  {
   "cell_type": "code",
   "execution_count": null,
   "id": "a8f408ed",
   "metadata": {},
   "outputs": [],
   "source": []
  },
  {
   "cell_type": "code",
   "execution_count": null,
   "id": "ea5ec987",
   "metadata": {},
   "outputs": [],
   "source": []
  },
  {
   "cell_type": "code",
   "execution_count": null,
   "id": "5cb6afa8",
   "metadata": {},
   "outputs": [],
   "source": [
    "\n",
    "\n"
   ]
  },
  {
   "cell_type": "code",
   "execution_count": null,
   "id": "42b44401",
   "metadata": {},
   "outputs": [],
   "source": []
  },
  {
   "cell_type": "code",
   "execution_count": null,
   "id": "b1111470",
   "metadata": {},
   "outputs": [],
   "source": []
  },
  {
   "cell_type": "code",
   "execution_count": null,
   "id": "4da16d92",
   "metadata": {},
   "outputs": [],
   "source": []
  },
  {
   "cell_type": "code",
   "execution_count": null,
   "id": "2b1d99b8",
   "metadata": {},
   "outputs": [],
   "source": []
  },
  {
   "cell_type": "code",
   "execution_count": null,
   "id": "17adeac7",
   "metadata": {},
   "outputs": [],
   "source": []
  },
  {
   "cell_type": "code",
   "execution_count": null,
   "id": "4d6df3ef",
   "metadata": {},
   "outputs": [],
   "source": []
  },
  {
   "cell_type": "code",
   "execution_count": null,
   "id": "2e1ab1ff",
   "metadata": {},
   "outputs": [],
   "source": []
  },
  {
   "cell_type": "code",
   "execution_count": null,
   "id": "f7e989c3",
   "metadata": {},
   "outputs": [],
   "source": []
  },
  {
   "cell_type": "code",
   "execution_count": null,
   "id": "9d9dc389",
   "metadata": {},
   "outputs": [],
   "source": []
  },
  {
   "cell_type": "code",
   "execution_count": null,
   "id": "ecbbf26e",
   "metadata": {},
   "outputs": [],
   "source": []
  },
  {
   "cell_type": "code",
   "execution_count": null,
   "id": "b87d2bc2",
   "metadata": {},
   "outputs": [],
   "source": []
  },
  {
   "cell_type": "code",
   "execution_count": null,
   "id": "225f6631",
   "metadata": {},
   "outputs": [],
   "source": []
  },
  {
   "cell_type": "code",
   "execution_count": null,
   "id": "5a648045",
   "metadata": {},
   "outputs": [],
   "source": []
  },
  {
   "cell_type": "code",
   "execution_count": null,
   "id": "439acaca",
   "metadata": {},
   "outputs": [],
   "source": []
  },
  {
   "cell_type": "code",
   "execution_count": null,
   "id": "dc6a4947",
   "metadata": {},
   "outputs": [],
   "source": []
  },
  {
   "cell_type": "code",
   "execution_count": null,
   "id": "11b54a1f",
   "metadata": {},
   "outputs": [],
   "source": []
  },
  {
   "cell_type": "code",
   "execution_count": null,
   "id": "6305f019",
   "metadata": {},
   "outputs": [],
   "source": []
  },
  {
   "cell_type": "code",
   "execution_count": null,
   "id": "35da732b",
   "metadata": {},
   "outputs": [],
   "source": []
  },
  {
   "cell_type": "code",
   "execution_count": null,
   "id": "6548646d",
   "metadata": {},
   "outputs": [],
   "source": []
  },
  {
   "cell_type": "code",
   "execution_count": null,
   "id": "0a985e39",
   "metadata": {},
   "outputs": [],
   "source": []
  },
  {
   "cell_type": "code",
   "execution_count": null,
   "id": "85b41344",
   "metadata": {},
   "outputs": [],
   "source": []
  },
  {
   "cell_type": "code",
   "execution_count": null,
   "id": "efc56cba",
   "metadata": {},
   "outputs": [],
   "source": []
  },
  {
   "cell_type": "code",
   "execution_count": null,
   "id": "b884ea8c",
   "metadata": {},
   "outputs": [],
   "source": []
  },
  {
   "cell_type": "code",
   "execution_count": null,
   "id": "a34faea3",
   "metadata": {},
   "outputs": [],
   "source": []
  },
  {
   "cell_type": "code",
   "execution_count": null,
   "id": "3fe5ef6d",
   "metadata": {},
   "outputs": [],
   "source": []
  },
  {
   "cell_type": "code",
   "execution_count": null,
   "id": "8a794dd4",
   "metadata": {},
   "outputs": [],
   "source": []
  },
  {
   "cell_type": "code",
   "execution_count": null,
   "id": "1788be69",
   "metadata": {},
   "outputs": [],
   "source": []
  },
  {
   "cell_type": "code",
   "execution_count": null,
   "id": "97146ae5",
   "metadata": {},
   "outputs": [],
   "source": []
  },
  {
   "cell_type": "code",
   "execution_count": null,
   "id": "d30bc103",
   "metadata": {},
   "outputs": [],
   "source": []
  },
  {
   "cell_type": "code",
   "execution_count": null,
   "id": "c17aa4aa",
   "metadata": {},
   "outputs": [],
   "source": []
  },
  {
   "cell_type": "code",
   "execution_count": null,
   "id": "5ed18fca",
   "metadata": {},
   "outputs": [],
   "source": []
  },
  {
   "cell_type": "code",
   "execution_count": null,
   "id": "2d09f9a3",
   "metadata": {},
   "outputs": [],
   "source": []
  },
  {
   "cell_type": "code",
   "execution_count": null,
   "id": "7162d690",
   "metadata": {},
   "outputs": [],
   "source": []
  },
  {
   "cell_type": "code",
   "execution_count": null,
   "id": "d0f26801",
   "metadata": {},
   "outputs": [],
   "source": []
  },
  {
   "cell_type": "code",
   "execution_count": null,
   "id": "7cb4fe53",
   "metadata": {},
   "outputs": [],
   "source": []
  },
  {
   "cell_type": "code",
   "execution_count": null,
   "id": "595bfb67",
   "metadata": {},
   "outputs": [],
   "source": []
  },
  {
   "cell_type": "code",
   "execution_count": null,
   "id": "74b33bfd",
   "metadata": {},
   "outputs": [],
   "source": []
  },
  {
   "cell_type": "code",
   "execution_count": null,
   "id": "4069e84f",
   "metadata": {},
   "outputs": [],
   "source": []
  },
  {
   "cell_type": "code",
   "execution_count": null,
   "id": "930eba44",
   "metadata": {},
   "outputs": [],
   "source": []
  },
  {
   "cell_type": "code",
   "execution_count": null,
   "id": "d0c4bfc0",
   "metadata": {},
   "outputs": [],
   "source": []
  },
  {
   "cell_type": "code",
   "execution_count": null,
   "id": "3d77c347",
   "metadata": {},
   "outputs": [],
   "source": []
  },
  {
   "cell_type": "code",
   "execution_count": null,
   "id": "47a11052",
   "metadata": {},
   "outputs": [],
   "source": []
  },
  {
   "cell_type": "code",
   "execution_count": null,
   "id": "c42f55f2",
   "metadata": {},
   "outputs": [],
   "source": []
  },
  {
   "cell_type": "code",
   "execution_count": null,
   "id": "d131f67e",
   "metadata": {},
   "outputs": [],
   "source": []
  },
  {
   "cell_type": "code",
   "execution_count": null,
   "id": "1f77cef6",
   "metadata": {},
   "outputs": [],
   "source": []
  },
  {
   "cell_type": "code",
   "execution_count": null,
   "id": "a05872f5",
   "metadata": {},
   "outputs": [],
   "source": []
  },
  {
   "cell_type": "code",
   "execution_count": null,
   "id": "063a7549",
   "metadata": {},
   "outputs": [],
   "source": []
  },
  {
   "cell_type": "code",
   "execution_count": null,
   "id": "911fd563",
   "metadata": {},
   "outputs": [],
   "source": []
  },
  {
   "cell_type": "code",
   "execution_count": null,
   "id": "bb3744a3",
   "metadata": {},
   "outputs": [],
   "source": []
  },
  {
   "cell_type": "code",
   "execution_count": null,
   "id": "119bb972",
   "metadata": {},
   "outputs": [],
   "source": []
  },
  {
   "cell_type": "code",
   "execution_count": null,
   "id": "7489f9d3",
   "metadata": {},
   "outputs": [],
   "source": []
  },
  {
   "cell_type": "code",
   "execution_count": null,
   "id": "5e3161dc",
   "metadata": {},
   "outputs": [],
   "source": []
  },
  {
   "cell_type": "code",
   "execution_count": null,
   "id": "1515079f",
   "metadata": {},
   "outputs": [],
   "source": []
  },
  {
   "cell_type": "code",
   "execution_count": null,
   "id": "df70098d",
   "metadata": {},
   "outputs": [],
   "source": []
  },
  {
   "cell_type": "code",
   "execution_count": null,
   "id": "7d286dae",
   "metadata": {},
   "outputs": [],
   "source": []
  },
  {
   "cell_type": "code",
   "execution_count": null,
   "id": "ba6508bf",
   "metadata": {},
   "outputs": [],
   "source": []
  },
  {
   "cell_type": "code",
   "execution_count": null,
   "id": "4e60d6e7",
   "metadata": {},
   "outputs": [],
   "source": []
  },
  {
   "cell_type": "code",
   "execution_count": null,
   "id": "5d727274",
   "metadata": {},
   "outputs": [],
   "source": []
  },
  {
   "cell_type": "code",
   "execution_count": null,
   "id": "641ddf89",
   "metadata": {},
   "outputs": [],
   "source": []
  },
  {
   "cell_type": "code",
   "execution_count": null,
   "id": "3c5be668",
   "metadata": {},
   "outputs": [],
   "source": []
  },
  {
   "cell_type": "code",
   "execution_count": null,
   "id": "08e3d95e",
   "metadata": {},
   "outputs": [],
   "source": []
  },
  {
   "cell_type": "code",
   "execution_count": null,
   "id": "064e67ef",
   "metadata": {},
   "outputs": [],
   "source": []
  },
  {
   "cell_type": "code",
   "execution_count": null,
   "id": "9b9bcd7f",
   "metadata": {},
   "outputs": [],
   "source": []
  },
  {
   "cell_type": "code",
   "execution_count": null,
   "id": "a3bb0c4e",
   "metadata": {},
   "outputs": [],
   "source": []
  },
  {
   "cell_type": "code",
   "execution_count": null,
   "id": "804d15bb",
   "metadata": {},
   "outputs": [],
   "source": []
  },
  {
   "cell_type": "code",
   "execution_count": null,
   "id": "3a54f6b1",
   "metadata": {},
   "outputs": [],
   "source": []
  },
  {
   "cell_type": "code",
   "execution_count": null,
   "id": "3d48cf7a",
   "metadata": {},
   "outputs": [],
   "source": []
  },
  {
   "cell_type": "code",
   "execution_count": null,
   "id": "e96edbb6",
   "metadata": {},
   "outputs": [],
   "source": []
  },
  {
   "cell_type": "code",
   "execution_count": null,
   "id": "d0d1be43",
   "metadata": {},
   "outputs": [],
   "source": []
  },
  {
   "cell_type": "code",
   "execution_count": null,
   "id": "7d451505",
   "metadata": {},
   "outputs": [],
   "source": []
  },
  {
   "cell_type": "code",
   "execution_count": null,
   "id": "c554be10",
   "metadata": {},
   "outputs": [],
   "source": []
  },
  {
   "cell_type": "code",
   "execution_count": null,
   "id": "5a136e26",
   "metadata": {},
   "outputs": [],
   "source": []
  },
  {
   "cell_type": "code",
   "execution_count": null,
   "id": "e91ad377",
   "metadata": {},
   "outputs": [],
   "source": []
  },
  {
   "cell_type": "code",
   "execution_count": null,
   "id": "c7e7d73f",
   "metadata": {},
   "outputs": [],
   "source": []
  },
  {
   "cell_type": "code",
   "execution_count": null,
   "id": "3c3255bd",
   "metadata": {},
   "outputs": [],
   "source": []
  }
 ],
 "metadata": {
  "kernelspec": {
   "display_name": "Python 3 (ipykernel)",
   "language": "python",
   "name": "python3"
  },
  "language_info": {
   "codemirror_mode": {
    "name": "ipython",
    "version": 3
   },
   "file_extension": ".py",
   "mimetype": "text/x-python",
   "name": "python",
   "nbconvert_exporter": "python",
   "pygments_lexer": "ipython3",
   "version": "3.9.13"
  }
 },
 "nbformat": 4,
 "nbformat_minor": 5
}
