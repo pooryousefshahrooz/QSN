{
 "cells": [
  {
   "cell_type": "code",
   "execution_count": 2,
   "id": "8dccbe68",
   "metadata": {},
   "outputs": [],
   "source": [
    "#!/usr/bin/env python\n",
    "# coding: utf-8\n",
    "\n",
    "# In[1]:\n",
    "\n",
    "\n",
    "from plotting_functions import *\n",
    "import math\n",
    "import csv\n",
    "import time\n",
    "from math import log\n",
    "import networkx as nx\n",
    "from os import listdir\n",
    "import random\n",
    "import io\n",
    "from io import StringIO\n",
    "import codecs\n",
    "import math\n",
    "from os.path import isfile, join\n",
    "#from geopy.distance.geodesic import vincenty\n",
    "# In[2]:\n",
    "from math import *\n",
    "from mpl_toolkits.axes_grid1.inset_locator import inset_axes, mark_inset, InsetPosition"
   ]
  },
  {
   "cell_type": "code",
   "execution_count": 30,
   "id": "3d20d8f7-ac60-4f6e-b2e0-9df416c0bc49",
   "metadata": {},
   "outputs": [
    {
     "ename": "ValueError",
     "evalue": "max() arg is an empty sequence",
     "output_type": "error",
     "traceback": [
      "\u001b[0;31m---------------------------------------------------------------------------\u001b[0m",
      "\u001b[0;31mValueError\u001b[0m                                Traceback (most recent call last)",
      "Input \u001b[0;32mIn [30]\u001b[0m, in \u001b[0;36m<module>\u001b[0;34m\u001b[0m\n\u001b[1;32m     72\u001b[0m τ_coh_values\u001b[38;5;241m.\u001b[39msort()\n\u001b[1;32m     73\u001b[0m scheme_keys \u001b[38;5;241m=\u001b[39m \u001b[38;5;28mlist\u001b[39m(scheme_keys)\n\u001b[1;32m     75\u001b[0m ploting_simple_y_as_x(\u001b[38;5;124m\"\u001b[39m\u001b[38;5;124mCoherence time (sec)\u001b[39m\u001b[38;5;124m\"\u001b[39m,\u001b[38;5;124m\"\u001b[39m\u001b[38;5;124mPercentage of satisfied workloads\u001b[39m\u001b[38;5;124m\"\u001b[39m,\n\u001b[1;32m     76\u001b[0m                         \u001b[38;5;241m18\u001b[39m, \u001b[38;5;241m18\u001b[39m, \u001b[38;5;241m14\u001b[39m,\n\u001b[1;32m     77\u001b[0m                       \u001b[38;5;241m14\u001b[39m, \u001b[38;5;241m0\u001b[39m, \u001b[38;5;241m0\u001b[39m,\n\u001b[0;32m---> 78\u001b[0m                       \u001b[38;5;241m0\u001b[39m,\u001b[38;5;241m0\u001b[39m,\u001b[38;5;28;01mFalse\u001b[39;00m,[],\u001b[38;5;28;43mmax\u001b[39;49m\u001b[43m(\u001b[49m\u001b[43mselected_values\u001b[49m\u001b[43m)\u001b[49m\u001b[38;5;241m+\u001b[39m\u001b[38;5;241m10\u001b[39m,\n\u001b[1;32m     79\u001b[0m                       \n\u001b[1;32m     80\u001b[0m                       \u001b[38;5;28mlist\u001b[39m(scheme_keys),\n\u001b[1;32m     81\u001b[0m                       each_scheme_each_coherence_time_workloads_percentage,\n\u001b[1;32m     82\u001b[0m                       τ_coh_values,τ_coh_values,\n\u001b[1;32m     83\u001b[0m                       \u001b[38;5;28;01mFalse\u001b[39;00m,\u001b[38;5;28;01mTrue\u001b[39;00m,\u001b[38;5;28;01mTrue\u001b[39;00m,\u001b[38;5;241m6\u001b[39m,\u001b[38;5;241m2\u001b[39m,\n\u001b[1;32m     84\u001b[0m                       \u001b[38;5;124m\"\u001b[39m\u001b[38;5;124mplots/QSN_repeater_chain_workload_as_coh_time.pdf\u001b[39m\u001b[38;5;124m\"\u001b[39m,\u001b[38;5;28;01mTrue\u001b[39;00m,\u001b[38;5;241m2\u001b[39m,\u001b[38;5;241m6.4\u001b[39m,\u001b[38;5;241m3.8\u001b[39m,\u001b[38;5;28;01mFalse\u001b[39;00m)\n",
      "\u001b[0;31mValueError\u001b[0m: max() arg is an empty sequence"
     ]
    }
   ],
   "source": [
    "\n",
    "scheme_keys = set([])\n",
    "τ_coh_values  =set([])\n",
    "each_scheme_each_coherence_time_all_workloads = {}\n",
    "each_scheme_each_coherence_time_workloads  ={}\n",
    "\n",
    "# result_file_path = \"../../QSN_results/QSN_resultsv3.csv\" #for intermediate edge capacity 300 EPRps\n",
    "# result_file_path = \"../../QSN_results/QSN_resultsv2.csv\" #for intermediate edge capacity 100 EPRps\n",
    "result_file_path = \"../../QSN_results/QSN_results_final.csv\" #for intermediate edge capacity 100 EPRps\n",
    "result_file_path = \"../../QSN_results/QSN_results_finalv2.csv\" #for intermediate edge capacity 100 EPRps\n",
    "\n",
    "\n",
    "with open(result_file_path, \"r\") as f:\n",
    "    reader = csv.reader( (line.replace('\\0','') for line in f) )\n",
    "    for line in reader:#t_max,i,request_fidelity_threshold,\n",
    "#                                           storage_block_threshold,\n",
    "#                                           storage_capacity,τ_coh,service_delay\n",
    "        # print()\n",
    "        t_max = int(line[0])\n",
    "        i = line[1]\n",
    "        request_fidelity_threshold= float(line[2])\n",
    "        storage_block_threshold= float(line[3])\n",
    "        storage_capacity = int(line[4])\n",
    "        τ_coh = float(line[5])\n",
    "        delta = int(line[6])\n",
    "        objective_value = float(line[7])\n",
    "#         print(\"objective_value\",objective_value)\n",
    "        if objective_value==-1:\n",
    "            objective_value = 0\n",
    "        else:\n",
    "            objective_value = 1\n",
    "        if  ( t_max in [10] and request_fidelity_threshold in [0.8]  and \n",
    "             storage_block_threshold in [0.7,0.8,0.85,0.9]\n",
    "            ):\n",
    "            scheme = \"Strg_Fth = \"+str(storage_block_threshold)+\",Stg_C=\"+str(storage_capacity)+\",delat\"+str(delta)\n",
    "            try:\n",
    "                each_scheme_each_coherence_time_workloads[scheme][τ_coh]+=objective_value\n",
    "            except:\n",
    "                try:\n",
    "                    each_scheme_each_coherence_time_workloads[scheme][τ_coh]= objective_value\n",
    "                except:\n",
    "                    each_scheme_each_coherence_time_workloads[scheme]={}\n",
    "                    each_scheme_each_coherence_time_workloads[scheme][τ_coh]=objective_value\n",
    "            try:\n",
    "                each_scheme_each_coherence_time_all_workloads[scheme][τ_coh]+=1\n",
    "            except:\n",
    "                try:\n",
    "                    each_scheme_each_coherence_time_all_workloads[scheme][τ_coh]= 1\n",
    "                except:\n",
    "                    each_scheme_each_coherence_time_all_workloads[scheme]={}\n",
    "                    each_scheme_each_coherence_time_all_workloads[scheme][τ_coh]=1\n",
    "         \n",
    "            τ_coh_values.add(τ_coh)\n",
    "            if scheme not in scheme_keys:\n",
    "                scheme_keys.add(scheme)\n",
    "\n",
    "\n",
    "selected_values = []\n",
    "each_scheme_each_coherence_time_workloads_percentage = {}\n",
    "for scheme,τ_coh_value_satisfied_number in each_scheme_each_coherence_time_workloads.items():\n",
    "    for τ_coh,satisfied_number in τ_coh_value_satisfied_number.items():\n",
    "        \n",
    "        percentage = satisfied_number/each_scheme_each_coherence_time_all_workloads[scheme][τ_coh]*100\n",
    "        try:\n",
    "            each_scheme_each_coherence_time_workloads_percentage[scheme][τ_coh] = percentage\n",
    "        except:\n",
    "            each_scheme_each_coherence_time_workloads_percentage[scheme]  ={}\n",
    "            each_scheme_each_coherence_time_workloads_percentage[scheme][τ_coh]=percentage\n",
    "        selected_values.append(percentage)\n",
    "        \n",
    "        \n",
    "τ_coh_values = list(τ_coh_values)\n",
    "τ_coh_values.sort()\n",
    "scheme_keys = list(scheme_keys)\n",
    "\n",
    "ploting_simple_y_as_x(\"Coherence time (sec)\",\"Percentage of satisfied workloads\",\n",
    "                        18, 18, 14,\n",
    "                      14, 0, 0,\n",
    "                      0,0,False,[],max(selected_values)+10,\n",
    "                      \n",
    "                      list(scheme_keys),\n",
    "                      each_scheme_each_coherence_time_workloads_percentage,\n",
    "                      τ_coh_values,τ_coh_values,\n",
    "                      False,True,True,6,2,\n",
    "                      \"plots/QSN_repeater_chain_workload_as_coh_time.pdf\",True,2,6.4,3.8,False)"
   ]
  },
  {
   "cell_type": "code",
   "execution_count": null,
   "id": "f8904fc9",
   "metadata": {},
   "outputs": [],
   "source": []
  },
  {
   "cell_type": "code",
   "execution_count": 89,
   "id": "75ab7448-1ec0-4dc9-938a-ffcab5895ffb",
   "metadata": {},
   "outputs": [
    {
     "name": "stdout",
     "output_type": "stream",
     "text": [
      "we get the values for scheme Req.Fth=0.7,Strg_Fth = 0.8 point 10.0 53.98446145045017\n",
      "we get the values for scheme Req.Fth=0.7,Strg_Fth = 0.8 point 11.288378916846888 53.99075474925954\n",
      "we get the values for scheme Req.Fth=0.7,Strg_Fth = 0.8 point 12.742749857031333 53.99684581488644\n",
      "we get the values for scheme Req.Fth=0.7,Strg_Fth = 0.8 point 14.38449888287663 54.00268493406859\n",
      "we get the values for scheme Req.Fth=0.7,Strg_Fth = 0.8 point 16.237767391887218 54.008234460510195\n",
      "we get the values for scheme Req.Fth=0.7,Strg_Fth = 0.8 point 18.329807108324356 54.013468086002916\n",
      "we get the values for scheme Req.Fth=0.7,Strg_Fth = 0.8 point 20.6913808111479 54.01836969758588\n",
      "we get the values for scheme Req.Fth=0.7,Strg_Fth = 0.8 point 23.357214690901227 54.02293200464029\n",
      "we get the values for scheme Req.Fth=0.7,Strg_Fth = 0.8 point 26.366508987303583 54.0271550825914\n",
      "we get the values for scheme Req.Fth=0.7,Strg_Fth = 0.8 point 29.763514416313175 54.03104494114306\n",
      "we get the values for scheme Req.Fth=0.7,Strg_Fth = 0.8 point 33.59818286283781 54.03461218969865\n",
      "we get the values for scheme Req.Fth=0.7,Strg_Fth = 0.8 point 37.926901907322495 54.52701191297248\n",
      "we get the values for scheme Req.Fth=0.7,Strg_Fth = 0.8 point 42.81332398719393 54.53077394654467\n",
      "we get the values for scheme Req.Fth=0.7,Strg_Fth = 0.8 point 48.32930238571752 54.534169423318474\n",
      "we get the values for scheme Req.Fth=0.7,Strg_Fth = 0.8 point 54.5559478116852 54.537227610873\n",
      "we get the values for scheme Req.Fth=0.7,Strg_Fth = 0.8 point 61.58482110660264 54.53997686426873\n",
      "we get the values for scheme Req.Fth=0.7,Strg_Fth = 0.8 point 69.51927961775604 54.54244428743631\n",
      "we get the values for scheme Req.Fth=0.7,Strg_Fth = 0.8 point 78.47599703514611 54.544655505937705\n",
      "we get the values for scheme Req.Fth=0.7,Strg_Fth = 0.8 point 88.58667904100822 54.54663452897036\n",
      "we get the values for scheme Req.Fth=0.7,Strg_Fth = 0.8 point 100.0 54.5484036813725\n",
      "we get the values for scheme Req.Fth=0.7,Strg_Fth = 0.7 point 10.0 54.066485948036565\n",
      "we get the values for scheme Req.Fth=0.7,Strg_Fth = 0.7 point 11.288378916846888 54.07244766329641\n",
      "we get the values for scheme Req.Fth=0.7,Strg_Fth = 0.7 point 12.742749857031333 54.078218124650164\n",
      "we get the values for scheme Req.Fth=0.7,Strg_Fth = 0.7 point 14.38449888287663 54.083750216831596\n",
      "we get the values for scheme Req.Fth=0.7,Strg_Fth = 0.7 point 16.237767391887218 54.08900824069843\n",
      "we get the values for scheme Req.Fth=0.7,Strg_Fth = 0.7 point 18.329807108324356 54.093967229034966\n",
      "we get the values for scheme Req.Fth=0.7,Strg_Fth = 0.7 point 20.6913808111479 54.09861186918476\n",
      "we get the values for scheme Req.Fth=0.7,Strg_Fth = 0.7 point 23.357214690901227 54.102935206505336\n",
      "we get the values for scheme Req.Fth=0.7,Strg_Fth = 0.7 point 26.366508987303583 54.10693726760406\n",
      "we get the values for scheme Req.Fth=0.7,Strg_Fth = 0.7 point 29.763514416313175 54.11062370574237\n",
      "we get the values for scheme Req.Fth=0.7,Strg_Fth = 0.7 point 33.59818286283781 54.11400453744277\n",
      "we get the values for scheme Req.Fth=0.7,Strg_Fth = 0.7 point 37.926901907322495 54.59023048515996\n",
      "we get the values for scheme Req.Fth=0.7,Strg_Fth = 0.7 point 42.81332398719393 54.59381771119952\n",
      "we get the values for scheme Req.Fth=0.7,Strg_Fth = 0.7 point 48.32930238571752 54.5970554129547\n",
      "we get the values for scheme Req.Fth=0.7,Strg_Fth = 0.7 point 54.5559478116852 54.59997149805042\n",
      "we get the values for scheme Req.Fth=0.7,Strg_Fth = 0.7 point 61.58482110660264 54.60259300399428\n",
      "we get the values for scheme Req.Fth=0.7,Strg_Fth = 0.7 point 69.51927961775604 54.604945775299356\n",
      "we get the values for scheme Req.Fth=0.7,Strg_Fth = 0.7 point 78.47599703514611 54.60705424680423\n",
      "we get the values for scheme Req.Fth=0.7,Strg_Fth = 0.7 point 88.58667904100822 54.60894131208937\n",
      "we get the values for scheme Req.Fth=0.7,Strg_Fth = 0.7 point 100.0 54.61062825864185\n"
     ]
    },
    {
     "name": "stderr",
     "output_type": "stream",
     "text": [
      "/Users/shahrooz/PhD_research_projects/QSN/plotting/plotting_functions.py:335: UserWarning: Attempted to set non-positive bottom ylim on a log-scaled axis.\n",
      "Invalid limit will be ignored.\n",
      "  plt.ylim(y_axis_provided_min_value, y_axis_provided_max_value)\n"
     ]
    },
    {
     "data": {
      "image/png": "[encoded data removed]",
      "text/plain": [
       "<Figure size 820.8x273.6 with 1 Axes>"
      ]
     },
     "metadata": {
      "needs_background": "light"
     },
     "output_type": "display_data"
    }
   ],
   "source": [
    "\n",
    "scheme_keys = set([])\n",
    "τ_coh_values  =set([])\n",
    "each_scheme_each_coherence_time_all_workloads = {}\n",
    "each_scheme_each_coherence_time_workloads  ={}\n",
    "\n",
    "# result_file_path = \"../../QSN_results/QSN_resultsv3.csv\" #for intermediate edge capacity 300 EPRps\n",
    "# result_file_path = \"../../QSN_results/QSN_resultsv2.csv\" #for intermediate edge capacity 100 EPRps\n",
    "result_file_path = \"../../QSN_results/QSN_results_final_maximizing_rate.csv\" #for intermediate edge capacity 100 EPRps\n",
    "\n",
    "\n",
    "with open(result_file_path, \"r\") as f:\n",
    "    reader = csv.reader( (line.replace('\\0','') for line in f) )\n",
    "    for line in reader:#t_max,i,request_fidelity_threshold,\n",
    "#                                           storage_block_threshold,\n",
    "#                                           storage_capacity,τ_coh,service_delay\n",
    "        # print()\n",
    "        t_max = int(line[0])\n",
    "        i = line[1]\n",
    "        request_fidelity_threshold= float(line[2])\n",
    "        storage_block_threshold= float(line[3])\n",
    "        storage_capacity = int(line[4])\n",
    "        τ_coh = float(line[5])\n",
    "        delta = int(line[6])\n",
    "        objective_value = float(line[7])\n",
    "        edge_capacity = int(line[8])\n",
    "#         print(\"objective_value\",objective_value)\n",
    "        \n",
    "        if  ( t_max in [10] and request_fidelity_threshold in [0.7]  and \n",
    "             storage_block_threshold in [0.7,0.8,0.85,0.9] and storage_block_threshold in [0.8,0.7] and \n",
    "             delta in [2] and edge_capacity in [600] and storage_capacity in [400]\n",
    "            ):\n",
    "            scheme = \"Req.Fth=\"+str(request_fidelity_threshold)+\",Strg_Fth = \"+str(storage_block_threshold)\n",
    "            try:\n",
    "                each_scheme_each_coherence_time_workloads[scheme][τ_coh].append(objective_value)\n",
    "            except:\n",
    "                try:\n",
    "                    each_scheme_each_coherence_time_workloads[scheme][τ_coh]= [objective_value]\n",
    "                except:\n",
    "                    each_scheme_each_coherence_time_workloads[scheme]={}\n",
    "                    each_scheme_each_coherence_time_workloads[scheme][τ_coh]=[objective_value]\n",
    "            \n",
    "         \n",
    "            τ_coh_values.add(τ_coh)\n",
    "            if scheme not in scheme_keys:\n",
    "                scheme_keys.add(scheme)\n",
    "\n",
    "\n",
    "selected_values = []\n",
    "each_scheme_each_coherence_time_workloads_percentage = {}\n",
    "for scheme,τ_coh_value_satisfied_number in each_scheme_each_coherence_time_workloads.items():\n",
    "    for τ_coh,values in τ_coh_value_satisfied_number.items():\n",
    "        \n",
    "        avg_EGR = sum(values)/len(values)\n",
    "        try:\n",
    "            each_scheme_each_coherence_time_workloads_percentage[scheme][τ_coh] = avg_EGR\n",
    "        except:\n",
    "            each_scheme_each_coherence_time_workloads_percentage[scheme]  ={}\n",
    "            each_scheme_each_coherence_time_workloads_percentage[scheme][τ_coh]=avg_EGR\n",
    "        selected_values.append(avg_EGR)\n",
    "        \n",
    "        \n",
    "τ_coh_values = list(τ_coh_values)\n",
    "τ_coh_values.sort()\n",
    "scheme_keys = list(scheme_keys)\n",
    "\n",
    "ploting_simple_y_as_x(\"Coherence time (sec)\",\"Ebit rate\",\n",
    "                        18, 18, 14,\n",
    "                      14, 0, 0,\n",
    "                      0,0,False,[],max(selected_values),\n",
    "                      \n",
    "                      list(scheme_keys),\n",
    "                      each_scheme_each_coherence_time_workloads_percentage,\n",
    "                      τ_coh_values,τ_coh_values,\n",
    "                      True,True,True,1,14,\n",
    "                      \"plots/QSN_repeater_chain_ebit_as_coh_time.pdf\",True,2,11.4,3.8,True)"
   ]
  },
  {
   "cell_type": "code",
   "execution_count": 96,
   "id": "08ba40c4",
   "metadata": {},
   "outputs": [
    {
     "name": "stdout",
     "output_type": "stream",
     "text": [
      "[10.]\n"
     ]
    }
   ],
   "source": [
    "τ_coh_list = np.linspace(10,10,1)\n",
    "print(τ_coh_list)"
   ]
  },
  {
   "cell_type": "code",
   "execution_count": 81,
   "id": "17d4de01-6e06-4ef9-8f59-1d4d880b0a97",
   "metadata": {},
   "outputs": [
    {
     "name": "stdout",
     "output_type": "stream",
     "text": [
      "we get the values for scheme Strg_Fth = 0.7,τ_coh =10sec point 2 54.066485948036565\n",
      "we get the values for scheme Strg_Fth = 0.7,τ_coh =10sec point 4 53.8267279327887\n",
      "we get the values for scheme Strg_Fth = 0.7,τ_coh =10sec point 6 53.80298991528528\n",
      "we get the values for scheme Strg_Fth = 0.7,τ_coh =10sec point 8 53.7950463016872\n",
      "we get the values for scheme Strg_Fth = 0.7,τ_coh =10sec point 10 53.79052746155048\n",
      "we get the values for scheme Strg_Fth = 0.7,τ_coh =10sec point 12 53.787514981025495\n",
      "we get the values for scheme Strg_Fth = 0.7,τ_coh =10sec point 14 53.78536320922193\n",
      "we get the values for scheme Strg_Fth = 0.7,τ_coh =10sec point 16 53.78374938036926\n",
      "we get the values for scheme Strg_Fth = 0.7,τ_coh =10sec point 18 53.78249418015051\n",
      "we get the values for scheme Strg_Fth = 0.7,τ_coh =20sec point 2 54.09861186918476\n",
      "we get the values for scheme Strg_Fth = 0.7,τ_coh =20sec point 4 53.92031324316387\n",
      "we get the values for scheme Strg_Fth = 0.7,τ_coh =20sec point 6 53.823143321593115\n",
      "we get the values for scheme Strg_Fth = 0.7,τ_coh =20sec point 8 53.7997382234058\n",
      "we get the values for scheme Strg_Fth = 0.7,τ_coh =20sec point 10 53.791549922347706\n",
      "we get the values for scheme Strg_Fth = 0.7,τ_coh =20sec point 12 53.787737190097005\n",
      "we get the values for scheme Strg_Fth = 0.7,τ_coh =20sec point 14 53.785378816360954\n",
      "we get the values for scheme Strg_Fth = 0.7,τ_coh =20sec point 16 53.78374965209264\n",
      "we get the values for scheme Strg_Fth = 0.7,τ_coh =20sec point 18 53.78249418015051\n",
      "we get the values for scheme Strg_Fth = 0.9,τ_coh =10sec point 2 62.24815888914553\n",
      "we get the values for scheme Strg_Fth = 0.9,τ_coh =10sec point 4 60.83257288822674\n",
      "we get the values for scheme Strg_Fth = 0.9,τ_coh =10sec point 6 59.2217586416143\n",
      "we get the values for scheme Strg_Fth = 0.9,τ_coh =10sec point 8 57.84832719658833\n",
      "we get the values for scheme Strg_Fth = 0.9,τ_coh =10sec point 10 57.03232732930587\n",
      "we get the values for scheme Strg_Fth = 0.9,τ_coh =10sec point 12 56.4889645578659\n",
      "we get the values for scheme Strg_Fth = 0.9,τ_coh =10sec point 14 56.10089120873862\n",
      "we get the values for scheme Strg_Fth = 0.9,τ_coh =10sec point 16 55.80983637994636\n",
      "we get the values for scheme Strg_Fth = 0.9,τ_coh =10sec point 18 55.58346040199683\n",
      "we get the values for scheme Strg_Fth = 0.9,τ_coh =20sec point 2 62.65811752554315\n",
      "we get the values for scheme Strg_Fth = 0.9,τ_coh =20sec point 4 62.08606935153158\n",
      "we get the values for scheme Strg_Fth = 0.9,τ_coh =20sec point 6 59.40959941754535\n",
      "we get the values for scheme Strg_Fth = 0.9,τ_coh =20sec point 8 57.90045973121904\n",
      "we get the values for scheme Strg_Fth = 0.9,τ_coh =20sec point 10 57.06564086057981\n",
      "we get the values for scheme Strg_Fth = 0.9,τ_coh =20sec point 12 56.497597117080986\n",
      "we get the values for scheme Strg_Fth = 0.9,τ_coh =20sec point 14 56.10321408882551\n",
      "we get the values for scheme Strg_Fth = 0.9,τ_coh =20sec point 16 55.810455180522894\n",
      "we get the values for scheme Strg_Fth = 0.9,τ_coh =20sec point 18 55.583833032145996\n"
     ]
    },
    {
     "name": "stderr",
     "output_type": "stream",
     "text": [
      "/Users/shahrooz/PhD_research_projects/QSN/plotting/plotting_functions.py:335: UserWarning: Attempted to set non-positive bottom ylim on a log-scaled axis.\n",
      "Invalid limit will be ignored.\n",
      "  plt.ylim(y_axis_provided_min_value, y_axis_provided_max_value)\n"
     ]
    },
    {
     "data": {
      "image/png": "[encoded data removed]",
      "text/plain": [
       "<Figure size 820.8x273.6 with 1 Axes>"
      ]
     },
     "metadata": {
      "needs_background": "light"
     },
     "output_type": "display_data"
    }
   ],
   "source": [
    "\n",
    "scheme_keys = set([])\n",
    "τ_coh_values  =set([])\n",
    "each_scheme_each_coherence_time_all_workloads = {}\n",
    "each_scheme_each_coherence_time_workloads  ={}\n",
    "\n",
    "# result_file_path = \"../../QSN_results/QSN_resultsv3.csv\" #for intermediate edge capacity 300 EPRps\n",
    "# result_file_path = \"../../QSN_results/QSN_resultsv2.csv\" #for intermediate edge capacity 100 EPRps\n",
    "result_file_path = \"../../QSN_results/QSN_results_final_maximizing_rate.csv\" #for intermediate edge capacity 100 EPRps\n",
    "\n",
    "\n",
    "with open(result_file_path, \"r\") as f:\n",
    "    reader = csv.reader( (line.replace('\\0','') for line in f) )\n",
    "    for line in reader:#t_max,i,request_fidelity_threshold,\n",
    "#                                           storage_block_threshold,\n",
    "#                                           storage_capacity,τ_coh,service_delay\n",
    "        # print()\n",
    "        t_max = int(line[0])\n",
    "        i = line[1]\n",
    "        request_fidelity_threshold= float(line[2])\n",
    "        storage_block_threshold= float(line[3])\n",
    "        storage_capacity = int(line[4])\n",
    "        τ_coh = float(line[5])\n",
    "        delta = int(line[6])\n",
    "        objective_value = float(line[7])\n",
    "        edge_capacity = int(line[8])\n",
    "#         print(τ_coh)\n",
    "#         print(\"objective_value\",objective_value)\n",
    "        \n",
    "        if  ( t_max in [10] and request_fidelity_threshold in [0.7]  and \n",
    "             storage_block_threshold in [0.7,0.8,0.85,0.9] and storage_block_threshold in [0.9,0.7] and \n",
    "              edge_capacity in [600] and storage_capacity in [400] and τ_coh in [20.6913808111479,10.0]\n",
    "            ):\n",
    "            scheme = \"Strg_Fth = \"+str(storage_block_threshold)+\",τ_coh =\"+str(int(τ_coh))+\"sec\"\n",
    "            try:\n",
    "                each_scheme_each_coherence_time_workloads[scheme][delta].append(objective_value)\n",
    "            except:\n",
    "                try:\n",
    "                    each_scheme_each_coherence_time_workloads[scheme][delta]= [objective_value]\n",
    "                except:\n",
    "                    each_scheme_each_coherence_time_workloads[scheme]={}\n",
    "                    each_scheme_each_coherence_time_workloads[scheme][delta]=[objective_value]\n",
    "            \n",
    "         \n",
    "            τ_coh_values.add(delta)\n",
    "            if scheme not in scheme_keys:\n",
    "                scheme_keys.add(scheme)\n",
    "\n",
    "\n",
    "selected_values = []\n",
    "each_scheme_each_coherence_time_workloads_percentage = {}\n",
    "for scheme,τ_coh_value_satisfied_number in each_scheme_each_coherence_time_workloads.items():\n",
    "    for τ_coh,values in τ_coh_value_satisfied_number.items():\n",
    "        \n",
    "        avg_EGR = sum(values)/len(values)\n",
    "        try:\n",
    "            each_scheme_each_coherence_time_workloads_percentage[scheme][τ_coh] = avg_EGR\n",
    "        except:\n",
    "            each_scheme_each_coherence_time_workloads_percentage[scheme]  ={}\n",
    "            each_scheme_each_coherence_time_workloads_percentage[scheme][τ_coh]=avg_EGR\n",
    "        selected_values.append(avg_EGR)\n",
    "        \n",
    "        \n",
    "τ_coh_values = list(τ_coh_values)\n",
    "τ_coh_values.sort()\n",
    "scheme_keys = list(scheme_keys)\n",
    "\n",
    "ploting_simple_y_as_x(\"Delta (sec)\",\"Ebit rate\",\n",
    "                        18, 18, 16,\n",
    "                      16, 0, 0,\n",
    "                      0,0,False,[],max(selected_values),\n",
    "                      \n",
    "                      list(scheme_keys),\n",
    "                      each_scheme_each_coherence_time_workloads_percentage,\n",
    "                      τ_coh_values,τ_coh_values,\n",
    "                      True,True,True,1,14,\n",
    "                      \"plots/QSN_repeater_chain_ebit_as_delta.pdf\",True,2,11.4,3.8,True)"
   ]
  },
  {
   "cell_type": "code",
   "execution_count": 9,
   "id": "51016328-62f3-4742-b40b-e9fbb67d0a9a",
   "metadata": {},
   "outputs": [],
   "source": [
    "# plotting 3D Ebit rate as coherence and delta time"
   ]
  },
  {
   "cell_type": "code",
   "execution_count": 28,
   "id": "45c36191-9a0c-4b8f-841f-d06931d8bec8",
   "metadata": {},
   "outputs": [
    {
     "name": "stdout",
     "output_type": "stream",
     "text": [
      "τ_coh_values  [1.0, 1.0256410256410255, 1.0344827586206897, 1.0512820512820513, 1.0689655172413792, 1.0769230769230769, 1.1025641025641026, 1.103448275862069, 1.1282051282051282, 1.1379310344827587, 1.1538461538461537, 1.1724137931034484, 1.1794871794871795, 1.205128205128205, 1.206896551724138, 1.2307692307692308, 1.2413793103448276, 1.2564102564102564, 1.2758620689655173, 1.282051282051282, 1.3076923076923077, 1.3103448275862069, 1.3333333333333333, 1.3448275862068966, 1.358974358974359, 1.3793103448275863, 1.3846153846153846, 1.4102564102564101, 1.4137931034482758, 1.435897435897436, 1.4482758620689655, 1.4615384615384615, 1.4827586206896552, 1.4871794871794872, 1.5128205128205128, 1.5172413793103448, 1.5384615384615383, 1.5517241379310345, 1.564102564102564, 1.5862068965517242, 1.5897435897435899, 1.6153846153846154, 1.6206896551724137, 1.641025641025641, 1.6551724137931034, 1.6666666666666665, 1.6896551724137931, 1.6923076923076923, 1.717948717948718, 1.7241379310344827, 1.7435897435897436, 1.7586206896551724, 1.7692307692307692, 1.793103448275862, 1.7948717948717947, 1.8205128205128205, 1.8275862068965516, 1.8461538461538463, 1.8620689655172413, 1.8717948717948718, 1.896551724137931, 1.8974358974358974, 1.923076923076923, 1.9310344827586206, 1.9487179487179487, 1.9655172413793103, 1.9743589743589745, 2.0, 3.0, 4.0, 5.0, 6.0, 7.0, 8.0, 9.0, 10.0, 11.0, 11.288378916846888, 12.0, 12.742749857031333, 13.0, 14.0, 14.38449888287663, 15.0, 16.0, 16.237767391887218, 17.0, 18.0, 18.329807108324356, 19.0, 20.0, 20.6913808111479, 21.0, 22.0, 23.0, 23.357214690901227, 24.0, 25.0, 26.0, 26.366508987303583, 27.0, 28.0, 29.0, 29.763514416313175, 30.0, 31.0, 32.0, 33.0, 33.59818286283781, 34.0, 35.0, 36.0, 37.0, 37.926901907322495, 38.0, 39.0]\n",
      "delta_values [1.0, 1.240506329113924, 1.481012658227848, 1.4871794871794872, 1.7215189873417722, 1.7468354430379747, 1.9620253164556962, 1.9743589743589745, 2.0, 2.2025316455696204, 2.4430379746835444, 2.4615384615384617, 2.4936708860759493, 2.6835443037974684, 2.9240506329113924, 2.948717948717949, 3.1645569620253164, 3.240506329113924, 3.4050632911392404, 3.4358974358974357, 3.6455696202531644, 3.886075949367089, 3.923076923076923, 3.9873417721518987, 4.0, 4.126582278481013, 4.367088607594937, 4.410256410256411, 4.6075949367088604, 4.734177215189874, 4.848101265822785, 4.897435897435898, 5.088607594936709, 5.329113924050633, 5.384615384615384, 5.481012658227848, 5.569620253164557, 5.810126582278481, 5.871794871794871, 6.0, 6.050632911392405, 6.227848101265822, 6.291139240506329, 6.358974358974359, 6.531645569620253, 6.772151898734178, 6.846153846153846, 6.974683544303797, 7.012658227848101, 7.253164556962026, 7.333333333333333, 7.493670886075949, 7.7215189873417724, 7.734177215189874, 7.82051282051282, 7.974683544303797, 8.0, 8.215189873417721, 8.307692307692307, 8.455696202531644, 8.468354430379748, 8.69620253164557, 8.794871794871796, 8.936708860759495, 9.177215189873419, 9.215189873417721, 9.282051282051281, 9.417721518987342, 9.658227848101266, 9.769230769230768, 9.89873417721519, 9.962025316455696]\n",
      "Z  200.0 200.33633305959538 206.87208862011317\n"
     ]
    },
    {
     "data": {
      "image/png": "[encoded data removed]",
      "text/plain": [
       "<Figure size 432x288 with 2 Axes>"
      ]
     },
     "metadata": {
      "needs_background": "light"
     },
     "output_type": "display_data"
    }
   ],
   "source": [
    "result_file_path = \"../../QSN_results/QSN_results_final_maximizing_rate.csv\" #for intermediate edge capacity 100 EPRps\n",
    "\n",
    "each_coh_delata_ebit  ={}\n",
    "τ_coh_values = []\n",
    "delta_values = []\n",
    "            \n",
    "with open(result_file_path, \"r\") as f:\n",
    "    reader = csv.reader( (line.replace('\\0','') for line in f) )\n",
    "    for line in reader:#t_max,i,request_fidelity_threshold,\n",
    "#                                           storage_block_threshold,\n",
    "#                                           storage_capacity,τ_coh,service_delay\n",
    "        # print()\n",
    "        t_max = int(line[0])\n",
    "        i = line[1]\n",
    "        request_fidelity_threshold= float(line[2])\n",
    "        storage_block_threshold= float(line[3])\n",
    "        storage_capacity = int(line[4])\n",
    "        τ_coh = float(line[5])\n",
    "        delta = float(line[6])\n",
    "        objective_value = float(line[7])\n",
    "        edge_capacity = int(line[8])\n",
    "        if  ( t_max in [20] and request_fidelity_threshold in [0.6]  and \n",
    "             storage_block_threshold in [0.7] and \n",
    "           τ_coh <40 and  delta < 10 and    edge_capacity in [200] and storage_capacity in [400]\n",
    "            ):\n",
    "            try:\n",
    "                each_coh_delata_ebit[τ_coh,delta].append(objective_value)\n",
    "            except:\n",
    "                each_coh_delata_ebit[τ_coh,delta] = [objective_value]\n",
    "                    \n",
    "            if τ_coh not in τ_coh_values:\n",
    "                τ_coh_values.append(τ_coh)\n",
    "            if delta not in delta_values:\n",
    "                delta_values.append(delta)\n",
    "\n",
    "X = []\n",
    "Y =[]\n",
    "Z = []\n",
    "rate_or_utility_values = []\n",
    "τ_coh_values.sort()\n",
    "delta_values.sort()\n",
    "print(\"τ_coh_values \",τ_coh_values)\n",
    "print(\"delta_values\",delta_values)\n",
    "\n",
    "for delta in delta_values:\n",
    "    for τ_coh in τ_coh_values:\n",
    "        if (τ_coh,delta) in each_coh_delata_ebit:\n",
    "            ebits = each_coh_delata_ebit[τ_coh,delta]\n",
    "            avg_ebits = sum(ebits)/len(ebits)\n",
    "            X.append(delta)\n",
    "            Y.append(τ_coh)\n",
    "            Z.append(avg_ebits)\n",
    "\n",
    "print(\"Z \",min(Z),sum(Z)/len(Z),max(Z))\n",
    "plotting_2D(\"Delta\",\"coherence time (ms)\",\"Ebit rate\",\n",
    "                          10, 10, 10,\n",
    "                          10, 0, 0,\n",
    "                          0,0,\n",
    "                          50,\n",
    "                          X,Y,Z,200,200.3,203,\n",
    "                          False,True,\n",
    "                          False,1,\n",
    "                          18,\"plots/3D_delta_coherence_ebit_rate.pdf\",\n",
    "                          False,3,6,3.6)"
   ]
  },
  {
   "cell_type": "code",
   "execution_count": 19,
   "id": "8dbe2183-2742-4425-a04c-4baac8f402bc",
   "metadata": {},
   "outputs": [
    {
     "name": "stdout",
     "output_type": "stream",
     "text": [
      "[1.         1.02564103 1.05128205 1.07692308 1.1025641  1.12820513\n",
      " 1.15384615 1.17948718 1.20512821 1.23076923 1.25641026 1.28205128\n",
      " 1.30769231 1.33333333 1.35897436 1.38461538 1.41025641 1.43589744\n",
      " 1.46153846 1.48717949 1.51282051 1.53846154 1.56410256 1.58974359\n",
      " 1.61538462 1.64102564 1.66666667 1.69230769 1.71794872 1.74358974\n",
      " 1.76923077 1.79487179 1.82051282 1.84615385 1.87179487 1.8974359\n",
      " 1.92307692 1.94871795 1.97435897 2.        ]\n"
     ]
    }
   ],
   "source": [
    "import numpy as np\n",
    "τ_coh_list = np.linspace(1,2,40)\n",
    "print(τ_coh_list)"
   ]
  },
  {
   "cell_type": "code",
   "execution_count": null,
   "id": "9df4a68b-d49c-4048-b713-d8a23e37f0c8",
   "metadata": {},
   "outputs": [],
   "source": []
  },
  {
   "cell_type": "code",
   "execution_count": null,
   "id": "23f9c3ff-06cc-4209-8f28-951a8301f0e2",
   "metadata": {},
   "outputs": [],
   "source": []
  },
  {
   "cell_type": "code",
   "execution_count": null,
   "id": "868eb1b7-3936-4147-9faa-7ff82860e7e7",
   "metadata": {},
   "outputs": [],
   "source": []
  },
  {
   "cell_type": "code",
   "execution_count": null,
   "id": "a91723e0-80eb-490e-af4b-cb5294dc082f",
   "metadata": {},
   "outputs": [],
   "source": []
  },
  {
   "cell_type": "code",
   "execution_count": null,
   "id": "039f2760-51aa-49d2-a94f-4c9d72ef8120",
   "metadata": {},
   "outputs": [],
   "source": []
  },
  {
   "cell_type": "code",
   "execution_count": null,
   "id": "ed3ca0a7-2439-4263-8813-ab1aa08d0845",
   "metadata": {},
   "outputs": [],
   "source": []
  },
  {
   "cell_type": "code",
   "execution_count": null,
   "id": "62668f6d-3d05-4b0d-adc4-3528054945f2",
   "metadata": {},
   "outputs": [],
   "source": []
  },
  {
   "cell_type": "code",
   "execution_count": null,
   "id": "deb43adf-67f7-4a99-b72c-84756e3ae448",
   "metadata": {},
   "outputs": [],
   "source": []
  },
  {
   "cell_type": "code",
   "execution_count": null,
   "id": "9077b182-a355-4a23-8802-371043e18725",
   "metadata": {},
   "outputs": [],
   "source": []
  },
  {
   "cell_type": "code",
   "execution_count": null,
   "id": "4c7a0e90-0296-47c1-96c8-2220e7453734",
   "metadata": {},
   "outputs": [],
   "source": []
  },
  {
   "cell_type": "code",
   "execution_count": null,
   "id": "55d5afa6-243e-4f6f-986c-2aa4bc324b11",
   "metadata": {},
   "outputs": [],
   "source": []
  },
  {
   "cell_type": "code",
   "execution_count": null,
   "id": "32e1a103-7935-4f0b-bfd4-d046681b2d90",
   "metadata": {},
   "outputs": [],
   "source": []
  },
  {
   "cell_type": "code",
   "execution_count": null,
   "id": "982fcd42-bcee-4068-8d19-419b2b50cf2b",
   "metadata": {},
   "outputs": [],
   "source": []
  },
  {
   "cell_type": "code",
   "execution_count": null,
   "id": "0bc65731-239b-4c69-b9ea-dfe9259b04c2",
   "metadata": {},
   "outputs": [],
   "source": []
  },
  {
   "cell_type": "code",
   "execution_count": null,
   "id": "f31bd75e-2fb1-4162-bbfc-1b9d8d89e2ef",
   "metadata": {},
   "outputs": [],
   "source": []
  },
  {
   "cell_type": "code",
   "execution_count": null,
   "id": "d7b3e163-0ee6-47d9-9470-9a3302ecfc73",
   "metadata": {},
   "outputs": [],
   "source": []
  },
  {
   "cell_type": "code",
   "execution_count": null,
   "id": "127827e2-4232-429f-afff-74d5d2241ee9",
   "metadata": {},
   "outputs": [],
   "source": []
  },
  {
   "cell_type": "code",
   "execution_count": null,
   "id": "972f5b41-8ebe-49c3-a762-9321931aafc1",
   "metadata": {},
   "outputs": [],
   "source": []
  },
  {
   "cell_type": "code",
   "execution_count": null,
   "id": "01353392-936e-419c-9429-e87ffe2428e9",
   "metadata": {},
   "outputs": [],
   "source": []
  },
  {
   "cell_type": "code",
   "execution_count": null,
   "id": "65d1e6e1-dc94-4902-b72b-d36f1e476341",
   "metadata": {},
   "outputs": [],
   "source": []
  },
  {
   "cell_type": "code",
   "execution_count": null,
   "id": "02a78216-d245-47e3-b279-93c6b86a158a",
   "metadata": {},
   "outputs": [],
   "source": []
  },
  {
   "cell_type": "code",
   "execution_count": null,
   "id": "f8695cc6-b9b0-4f89-8e79-f34200d986d5",
   "metadata": {},
   "outputs": [],
   "source": []
  },
  {
   "cell_type": "code",
   "execution_count": null,
   "id": "2905e4e2",
   "metadata": {},
   "outputs": [],
   "source": []
  },
  {
   "cell_type": "code",
   "execution_count": null,
   "id": "6ecf23ac",
   "metadata": {},
   "outputs": [],
   "source": []
  },
  {
   "cell_type": "code",
   "execution_count": null,
   "id": "24b8dda4",
   "metadata": {},
   "outputs": [],
   "source": []
  },
  {
   "cell_type": "code",
   "execution_count": null,
   "id": "1308dc13",
   "metadata": {},
   "outputs": [],
   "source": []
  },
  {
   "cell_type": "code",
   "execution_count": null,
   "id": "9144d7ac",
   "metadata": {},
   "outputs": [],
   "source": []
  },
  {
   "cell_type": "code",
   "execution_count": null,
   "id": "39bb4d1d",
   "metadata": {},
   "outputs": [],
   "source": []
  },
  {
   "cell_type": "code",
   "execution_count": null,
   "id": "ff2efa8c",
   "metadata": {},
   "outputs": [],
   "source": []
  },
  {
   "cell_type": "code",
   "execution_count": null,
   "id": "571d1c4c",
   "metadata": {},
   "outputs": [],
   "source": []
  },
  {
   "cell_type": "code",
   "execution_count": null,
   "id": "7928ec52",
   "metadata": {},
   "outputs": [],
   "source": []
  },
  {
   "cell_type": "code",
   "execution_count": null,
   "id": "d582a8cb",
   "metadata": {},
   "outputs": [],
   "source": []
  },
  {
   "cell_type": "code",
   "execution_count": null,
   "id": "e00602ae",
   "metadata": {},
   "outputs": [],
   "source": []
  },
  {
   "cell_type": "code",
   "execution_count": null,
   "id": "6ddbadb3",
   "metadata": {},
   "outputs": [],
   "source": []
  },
  {
   "cell_type": "code",
   "execution_count": null,
   "id": "666c4d82",
   "metadata": {},
   "outputs": [],
   "source": []
  },
  {
   "cell_type": "code",
   "execution_count": null,
   "id": "641ee316",
   "metadata": {},
   "outputs": [],
   "source": []
  },
  {
   "cell_type": "code",
   "execution_count": null,
   "id": "5929c1ef",
   "metadata": {},
   "outputs": [],
   "source": []
  },
  {
   "cell_type": "code",
   "execution_count": null,
   "id": "8c0f1810",
   "metadata": {},
   "outputs": [],
   "source": []
  },
  {
   "cell_type": "code",
   "execution_count": null,
   "id": "e1017fbd",
   "metadata": {
    "scrolled": true
   },
   "outputs": [],
   "source": []
  },
  {
   "cell_type": "code",
   "execution_count": null,
   "id": "8a0be516",
   "metadata": {},
   "outputs": [],
   "source": []
  },
  {
   "cell_type": "code",
   "execution_count": null,
   "id": "465ec2a2",
   "metadata": {},
   "outputs": [],
   "source": []
  },
  {
   "cell_type": "code",
   "execution_count": null,
   "id": "1f431703",
   "metadata": {},
   "outputs": [],
   "source": []
  },
  {
   "cell_type": "code",
   "execution_count": null,
   "id": "dd5118be",
   "metadata": {},
   "outputs": [],
   "source": []
  },
  {
   "cell_type": "code",
   "execution_count": null,
   "id": "0ed2af59",
   "metadata": {},
   "outputs": [],
   "source": []
  },
  {
   "cell_type": "code",
   "execution_count": null,
   "id": "81e04dce",
   "metadata": {},
   "outputs": [],
   "source": []
  },
  {
   "cell_type": "code",
   "execution_count": null,
   "id": "7e8a10ad",
   "metadata": {},
   "outputs": [],
   "source": []
  },
  {
   "cell_type": "code",
   "execution_count": null,
   "id": "b18261a4",
   "metadata": {},
   "outputs": [],
   "source": []
  },
  {
   "cell_type": "code",
   "execution_count": null,
   "id": "fe40b2a0",
   "metadata": {},
   "outputs": [],
   "source": []
  },
  {
   "cell_type": "code",
   "execution_count": null,
   "id": "a4e0b599",
   "metadata": {},
   "outputs": [],
   "source": []
  },
  {
   "cell_type": "code",
   "execution_count": null,
   "id": "1d2233a7",
   "metadata": {},
   "outputs": [],
   "source": []
  },
  {
   "cell_type": "code",
   "execution_count": null,
   "id": "56f675cd",
   "metadata": {},
   "outputs": [],
   "source": []
  },
  {
   "cell_type": "code",
   "execution_count": null,
   "id": "8e992cf8",
   "metadata": {},
   "outputs": [],
   "source": []
  },
  {
   "cell_type": "code",
   "execution_count": null,
   "id": "ac7ade4a",
   "metadata": {},
   "outputs": [],
   "source": []
  },
  {
   "cell_type": "code",
   "execution_count": null,
   "id": "3bf22974",
   "metadata": {},
   "outputs": [],
   "source": []
  },
  {
   "cell_type": "code",
   "execution_count": null,
   "id": "4418f2b1",
   "metadata": {},
   "outputs": [],
   "source": []
  },
  {
   "cell_type": "code",
   "execution_count": null,
   "id": "08ba65d8",
   "metadata": {},
   "outputs": [],
   "source": []
  },
  {
   "cell_type": "code",
   "execution_count": null,
   "id": "4f20c2f5",
   "metadata": {},
   "outputs": [],
   "source": []
  },
  {
   "cell_type": "code",
   "execution_count": null,
   "id": "a3ca6688",
   "metadata": {},
   "outputs": [],
   "source": []
  },
  {
   "cell_type": "code",
   "execution_count": null,
   "id": "fe7084b2",
   "metadata": {},
   "outputs": [],
   "source": []
  },
  {
   "cell_type": "code",
   "execution_count": null,
   "id": "86c006a3",
   "metadata": {},
   "outputs": [],
   "source": []
  },
  {
   "cell_type": "code",
   "execution_count": null,
   "id": "ea2043b0",
   "metadata": {},
   "outputs": [],
   "source": []
  },
  {
   "cell_type": "code",
   "execution_count": null,
   "id": "9895cfa9",
   "metadata": {},
   "outputs": [],
   "source": []
  },
  {
   "cell_type": "code",
   "execution_count": null,
   "id": "d7a704a5",
   "metadata": {},
   "outputs": [],
   "source": []
  },
  {
   "cell_type": "code",
   "execution_count": null,
   "id": "01b7d36a",
   "metadata": {},
   "outputs": [],
   "source": []
  },
  {
   "cell_type": "code",
   "execution_count": null,
   "id": "47e88dcd",
   "metadata": {},
   "outputs": [],
   "source": []
  },
  {
   "cell_type": "code",
   "execution_count": null,
   "id": "f7b5fcd8",
   "metadata": {},
   "outputs": [],
   "source": []
  },
  {
   "cell_type": "code",
   "execution_count": null,
   "id": "117aa392",
   "metadata": {},
   "outputs": [],
   "source": []
  },
  {
   "cell_type": "code",
   "execution_count": null,
   "id": "d22194c6",
   "metadata": {},
   "outputs": [],
   "source": []
  },
  {
   "cell_type": "code",
   "execution_count": null,
   "id": "4770ad26",
   "metadata": {},
   "outputs": [],
   "source": []
  },
  {
   "cell_type": "code",
   "execution_count": null,
   "id": "a611d49c",
   "metadata": {},
   "outputs": [],
   "source": []
  },
  {
   "cell_type": "code",
   "execution_count": null,
   "id": "e9f6c434",
   "metadata": {},
   "outputs": [],
   "source": []
  },
  {
   "cell_type": "code",
   "execution_count": null,
   "id": "cd31deba",
   "metadata": {},
   "outputs": [],
   "source": []
  },
  {
   "cell_type": "code",
   "execution_count": null,
   "id": "ffd56a8f",
   "metadata": {},
   "outputs": [],
   "source": []
  },
  {
   "cell_type": "code",
   "execution_count": null,
   "id": "1abe7560",
   "metadata": {},
   "outputs": [],
   "source": []
  },
  {
   "cell_type": "code",
   "execution_count": null,
   "id": "7d5e43c7",
   "metadata": {},
   "outputs": [],
   "source": []
  },
  {
   "cell_type": "code",
   "execution_count": null,
   "id": "18ad2144",
   "metadata": {},
   "outputs": [],
   "source": []
  },
  {
   "cell_type": "code",
   "execution_count": null,
   "id": "f9cdc9c8",
   "metadata": {},
   "outputs": [],
   "source": []
  },
  {
   "cell_type": "code",
   "execution_count": null,
   "id": "e470d270",
   "metadata": {},
   "outputs": [],
   "source": []
  },
  {
   "cell_type": "code",
   "execution_count": null,
   "id": "6b356033",
   "metadata": {},
   "outputs": [],
   "source": []
  },
  {
   "cell_type": "code",
   "execution_count": null,
   "id": "4eba8aca",
   "metadata": {},
   "outputs": [],
   "source": []
  },
  {
   "cell_type": "code",
   "execution_count": null,
   "id": "5fec45ce",
   "metadata": {},
   "outputs": [],
   "source": []
  },
  {
   "cell_type": "code",
   "execution_count": null,
   "id": "44949884",
   "metadata": {},
   "outputs": [],
   "source": []
  },
  {
   "cell_type": "code",
   "execution_count": null,
   "id": "e12172fc",
   "metadata": {},
   "outputs": [],
   "source": []
  },
  {
   "cell_type": "code",
   "execution_count": null,
   "id": "aefcd44a",
   "metadata": {},
   "outputs": [],
   "source": []
  },
  {
   "cell_type": "code",
   "execution_count": null,
   "id": "6fcd87e8",
   "metadata": {},
   "outputs": [],
   "source": []
  },
  {
   "cell_type": "code",
   "execution_count": null,
   "id": "7f320f48",
   "metadata": {},
   "outputs": [],
   "source": []
  },
  {
   "cell_type": "code",
   "execution_count": null,
   "id": "8cf1c6e4",
   "metadata": {},
   "outputs": [],
   "source": []
  },
  {
   "cell_type": "code",
   "execution_count": null,
   "id": "05e7e600",
   "metadata": {},
   "outputs": [],
   "source": []
  },
  {
   "cell_type": "code",
   "execution_count": null,
   "id": "c70a0b8d",
   "metadata": {},
   "outputs": [],
   "source": []
  },
  {
   "cell_type": "code",
   "execution_count": null,
   "id": "9254fa07",
   "metadata": {},
   "outputs": [],
   "source": []
  },
  {
   "cell_type": "code",
   "execution_count": null,
   "id": "171a0f56",
   "metadata": {},
   "outputs": [],
   "source": []
  },
  {
   "cell_type": "code",
   "execution_count": null,
   "id": "c71687d6",
   "metadata": {},
   "outputs": [],
   "source": []
  },
  {
   "cell_type": "code",
   "execution_count": null,
   "id": "6ffebfca",
   "metadata": {},
   "outputs": [],
   "source": []
  },
  {
   "cell_type": "code",
   "execution_count": null,
   "id": "12b1b8ca",
   "metadata": {},
   "outputs": [],
   "source": []
  },
  {
   "cell_type": "code",
   "execution_count": null,
   "id": "c2573fc5",
   "metadata": {},
   "outputs": [],
   "source": []
  },
  {
   "cell_type": "code",
   "execution_count": null,
   "id": "ce755509",
   "metadata": {},
   "outputs": [],
   "source": []
  },
  {
   "cell_type": "code",
   "execution_count": null,
   "id": "a8f408ed",
   "metadata": {},
   "outputs": [],
   "source": []
  },
  {
   "cell_type": "code",
   "execution_count": null,
   "id": "ea5ec987",
   "metadata": {},
   "outputs": [],
   "source": []
  },
  {
   "cell_type": "code",
   "execution_count": null,
   "id": "5cb6afa8",
   "metadata": {},
   "outputs": [],
   "source": [
    "\n",
    "\n"
   ]
  },
  {
   "cell_type": "code",
   "execution_count": null,
   "id": "42b44401",
   "metadata": {},
   "outputs": [],
   "source": []
  },
  {
   "cell_type": "code",
   "execution_count": null,
   "id": "b1111470",
   "metadata": {},
   "outputs": [],
   "source": []
  },
  {
   "cell_type": "code",
   "execution_count": null,
   "id": "4da16d92",
   "metadata": {},
   "outputs": [],
   "source": []
  },
  {
   "cell_type": "code",
   "execution_count": null,
   "id": "2b1d99b8",
   "metadata": {},
   "outputs": [],
   "source": []
  },
  {
   "cell_type": "code",
   "execution_count": null,
   "id": "17adeac7",
   "metadata": {},
   "outputs": [],
   "source": []
  },
  {
   "cell_type": "code",
   "execution_count": null,
   "id": "4d6df3ef",
   "metadata": {},
   "outputs": [],
   "source": []
  },
  {
   "cell_type": "code",
   "execution_count": null,
   "id": "2e1ab1ff",
   "metadata": {},
   "outputs": [],
   "source": []
  },
  {
   "cell_type": "code",
   "execution_count": null,
   "id": "f7e989c3",
   "metadata": {},
   "outputs": [],
   "source": []
  },
  {
   "cell_type": "code",
   "execution_count": null,
   "id": "9d9dc389",
   "metadata": {},
   "outputs": [],
   "source": []
  },
  {
   "cell_type": "code",
   "execution_count": null,
   "id": "ecbbf26e",
   "metadata": {},
   "outputs": [],
   "source": []
  },
  {
   "cell_type": "code",
   "execution_count": null,
   "id": "b87d2bc2",
   "metadata": {},
   "outputs": [],
   "source": []
  },
  {
   "cell_type": "code",
   "execution_count": null,
   "id": "225f6631",
   "metadata": {},
   "outputs": [],
   "source": []
  },
  {
   "cell_type": "code",
   "execution_count": null,
   "id": "5a648045",
   "metadata": {},
   "outputs": [],
   "source": []
  },
  {
   "cell_type": "code",
   "execution_count": null,
   "id": "439acaca",
   "metadata": {},
   "outputs": [],
   "source": []
  },
  {
   "cell_type": "code",
   "execution_count": null,
   "id": "dc6a4947",
   "metadata": {},
   "outputs": [],
   "source": []
  },
  {
   "cell_type": "code",
   "execution_count": null,
   "id": "11b54a1f",
   "metadata": {},
   "outputs": [],
   "source": []
  },
  {
   "cell_type": "code",
   "execution_count": null,
   "id": "6305f019",
   "metadata": {},
   "outputs": [],
   "source": []
  },
  {
   "cell_type": "code",
   "execution_count": null,
   "id": "35da732b",
   "metadata": {},
   "outputs": [],
   "source": []
  },
  {
   "cell_type": "code",
   "execution_count": null,
   "id": "6548646d",
   "metadata": {},
   "outputs": [],
   "source": []
  },
  {
   "cell_type": "code",
   "execution_count": null,
   "id": "0a985e39",
   "metadata": {},
   "outputs": [],
   "source": []
  },
  {
   "cell_type": "code",
   "execution_count": null,
   "id": "85b41344",
   "metadata": {},
   "outputs": [],
   "source": []
  },
  {
   "cell_type": "code",
   "execution_count": null,
   "id": "efc56cba",
   "metadata": {},
   "outputs": [],
   "source": []
  },
  {
   "cell_type": "code",
   "execution_count": null,
   "id": "b884ea8c",
   "metadata": {},
   "outputs": [],
   "source": []
  },
  {
   "cell_type": "code",
   "execution_count": null,
   "id": "a34faea3",
   "metadata": {},
   "outputs": [],
   "source": []
  },
  {
   "cell_type": "code",
   "execution_count": null,
   "id": "3fe5ef6d",
   "metadata": {},
   "outputs": [],
   "source": []
  },
  {
   "cell_type": "code",
   "execution_count": null,
   "id": "8a794dd4",
   "metadata": {},
   "outputs": [],
   "source": []
  },
  {
   "cell_type": "code",
   "execution_count": null,
   "id": "1788be69",
   "metadata": {},
   "outputs": [],
   "source": []
  },
  {
   "cell_type": "code",
   "execution_count": null,
   "id": "97146ae5",
   "metadata": {},
   "outputs": [],
   "source": []
  },
  {
   "cell_type": "code",
   "execution_count": null,
   "id": "d30bc103",
   "metadata": {},
   "outputs": [],
   "source": []
  },
  {
   "cell_type": "code",
   "execution_count": null,
   "id": "c17aa4aa",
   "metadata": {},
   "outputs": [],
   "source": []
  },
  {
   "cell_type": "code",
   "execution_count": null,
   "id": "5ed18fca",
   "metadata": {},
   "outputs": [],
   "source": []
  },
  {
   "cell_type": "code",
   "execution_count": null,
   "id": "2d09f9a3",
   "metadata": {},
   "outputs": [],
   "source": []
  },
  {
   "cell_type": "code",
   "execution_count": null,
   "id": "7162d690",
   "metadata": {},
   "outputs": [],
   "source": []
  },
  {
   "cell_type": "code",
   "execution_count": null,
   "id": "d0f26801",
   "metadata": {},
   "outputs": [],
   "source": []
  },
  {
   "cell_type": "code",
   "execution_count": null,
   "id": "7cb4fe53",
   "metadata": {},
   "outputs": [],
   "source": []
  },
  {
   "cell_type": "code",
   "execution_count": null,
   "id": "595bfb67",
   "metadata": {},
   "outputs": [],
   "source": []
  },
  {
   "cell_type": "code",
   "execution_count": null,
   "id": "74b33bfd",
   "metadata": {},
   "outputs": [],
   "source": []
  },
  {
   "cell_type": "code",
   "execution_count": null,
   "id": "4069e84f",
   "metadata": {},
   "outputs": [],
   "source": []
  },
  {
   "cell_type": "code",
   "execution_count": null,
   "id": "930eba44",
   "metadata": {},
   "outputs": [],
   "source": []
  },
  {
   "cell_type": "code",
   "execution_count": null,
   "id": "d0c4bfc0",
   "metadata": {},
   "outputs": [],
   "source": []
  },
  {
   "cell_type": "code",
   "execution_count": null,
   "id": "3d77c347",
   "metadata": {},
   "outputs": [],
   "source": []
  },
  {
   "cell_type": "code",
   "execution_count": null,
   "id": "47a11052",
   "metadata": {},
   "outputs": [],
   "source": []
  },
  {
   "cell_type": "code",
   "execution_count": null,
   "id": "c42f55f2",
   "metadata": {},
   "outputs": [],
   "source": []
  },
  {
   "cell_type": "code",
   "execution_count": null,
   "id": "d131f67e",
   "metadata": {},
   "outputs": [],
   "source": []
  },
  {
   "cell_type": "code",
   "execution_count": null,
   "id": "1f77cef6",
   "metadata": {},
   "outputs": [],
   "source": []
  },
  {
   "cell_type": "code",
   "execution_count": null,
   "id": "a05872f5",
   "metadata": {},
   "outputs": [],
   "source": []
  },
  {
   "cell_type": "code",
   "execution_count": null,
   "id": "063a7549",
   "metadata": {},
   "outputs": [],
   "source": []
  },
  {
   "cell_type": "code",
   "execution_count": null,
   "id": "911fd563",
   "metadata": {},
   "outputs": [],
   "source": []
  },
  {
   "cell_type": "code",
   "execution_count": null,
   "id": "bb3744a3",
   "metadata": {},
   "outputs": [],
   "source": []
  },
  {
   "cell_type": "code",
   "execution_count": null,
   "id": "119bb972",
   "metadata": {},
   "outputs": [],
   "source": []
  },
  {
   "cell_type": "code",
   "execution_count": null,
   "id": "7489f9d3",
   "metadata": {},
   "outputs": [],
   "source": []
  },
  {
   "cell_type": "code",
   "execution_count": null,
   "id": "5e3161dc",
   "metadata": {},
   "outputs": [],
   "source": []
  },
  {
   "cell_type": "code",
   "execution_count": null,
   "id": "1515079f",
   "metadata": {},
   "outputs": [],
   "source": []
  },
  {
   "cell_type": "code",
   "execution_count": null,
   "id": "df70098d",
   "metadata": {},
   "outputs": [],
   "source": []
  },
  {
   "cell_type": "code",
   "execution_count": null,
   "id": "7d286dae",
   "metadata": {},
   "outputs": [],
   "source": []
  },
  {
   "cell_type": "code",
   "execution_count": null,
   "id": "ba6508bf",
   "metadata": {},
   "outputs": [],
   "source": []
  },
  {
   "cell_type": "code",
   "execution_count": null,
   "id": "4e60d6e7",
   "metadata": {},
   "outputs": [],
   "source": []
  },
  {
   "cell_type": "code",
   "execution_count": null,
   "id": "5d727274",
   "metadata": {},
   "outputs": [],
   "source": []
  },
  {
   "cell_type": "code",
   "execution_count": null,
   "id": "641ddf89",
   "metadata": {},
   "outputs": [],
   "source": []
  },
  {
   "cell_type": "code",
   "execution_count": null,
   "id": "3c5be668",
   "metadata": {},
   "outputs": [],
   "source": []
  },
  {
   "cell_type": "code",
   "execution_count": null,
   "id": "08e3d95e",
   "metadata": {},
   "outputs": [],
   "source": []
  },
  {
   "cell_type": "code",
   "execution_count": null,
   "id": "064e67ef",
   "metadata": {},
   "outputs": [],
   "source": []
  },
  {
   "cell_type": "code",
   "execution_count": null,
   "id": "9b9bcd7f",
   "metadata": {},
   "outputs": [],
   "source": []
  },
  {
   "cell_type": "code",
   "execution_count": null,
   "id": "a3bb0c4e",
   "metadata": {},
   "outputs": [],
   "source": []
  },
  {
   "cell_type": "code",
   "execution_count": null,
   "id": "804d15bb",
   "metadata": {},
   "outputs": [],
   "source": []
  },
  {
   "cell_type": "code",
   "execution_count": null,
   "id": "3a54f6b1",
   "metadata": {},
   "outputs": [],
   "source": []
  },
  {
   "cell_type": "code",
   "execution_count": null,
   "id": "3d48cf7a",
   "metadata": {},
   "outputs": [],
   "source": []
  },
  {
   "cell_type": "code",
   "execution_count": null,
   "id": "e96edbb6",
   "metadata": {},
   "outputs": [],
   "source": []
  },
  {
   "cell_type": "code",
   "execution_count": null,
   "id": "d0d1be43",
   "metadata": {},
   "outputs": [],
   "source": []
  },
  {
   "cell_type": "code",
   "execution_count": null,
   "id": "7d451505",
   "metadata": {},
   "outputs": [],
   "source": []
  },
  {
   "cell_type": "code",
   "execution_count": null,
   "id": "c554be10",
   "metadata": {},
   "outputs": [],
   "source": []
  },
  {
   "cell_type": "code",
   "execution_count": null,
   "id": "5a136e26",
   "metadata": {},
   "outputs": [],
   "source": []
  },
  {
   "cell_type": "code",
   "execution_count": null,
   "id": "e91ad377",
   "metadata": {},
   "outputs": [],
   "source": []
  },
  {
   "cell_type": "code",
   "execution_count": null,
   "id": "c7e7d73f",
   "metadata": {},
   "outputs": [],
   "source": []
  },
  {
   "cell_type": "code",
   "execution_count": null,
   "id": "3c3255bd",
   "metadata": {},
   "outputs": [],
   "source": []
  }
 ],
 "metadata": {
  "kernelspec": {
   "display_name": "Python 3 (ipykernel)",
   "language": "python",
   "name": "python3"
  },
  "language_info": {
   "codemirror_mode": {
    "name": "ipython",
    "version": 3
   },
   "file_extension": ".py",
   "mimetype": "text/x-python",
   "name": "python",
   "nbconvert_exporter": "python",
   "pygments_lexer": "ipython3",
   "version": "3.9.13"
  }
 },
 "nbformat": 4,
 "nbformat_minor": 5
}
