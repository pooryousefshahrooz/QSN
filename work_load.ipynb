{
 "cells": [
  {
   "cell_type": "code",
   "execution_count": null,
   "id": "93d85e8f",
   "metadata": {},
   "outputs": [],
   "source": [
    "from tmgen.models import uniform_tm,spike_tm,modulated_gravity_tm,random_gravity_tm,gravity_tm,exp_tm\n",
    "import random"
   ]
  },
  {
   "cell_type": "code",
   "execution_count": null,
   "id": "6ba2dd3c",
   "metadata": {},
   "outputs": [],
   "source": [
    "class Work_load:\n",
    "    def __init__(self):\n",
    "        self.each_t_each_request_demand = {}\n",
    "        self.each_request_each_time_threshold = {}\n",
    "        self.each_t_real_requests = {}\n",
    "    def get_each_request_threshold(self,network,k,b,t):\n",
    "        if k in self.each_t_user_pairs[t]:\n",
    "            return self.each_request_each_time_threshold[k][t]\n",
    "        else:\n",
    "            return network.each_storage_block_time_treshold[k][b][t]\n",
    "        \n",
    "        \n",
    "    def set_each_user_pair_demands(self,number_of_time_slots,each_t_user_pairs,spike_mean,num_spikes):\n",
    "        self.each_t_each_request_demand = {}\n",
    "        num_of_pairs= len(list(each_t_user_pairs[0]))\n",
    "#         tm = spike_tm(num_of_pairs+1,num_spikes,spike_mean,number_of_time_slots)\n",
    "        for time in range(number_of_time_slots):\n",
    "#             traffic = tm.at_time(time)\n",
    "#             print(\"traffic\",traffic)\n",
    "            demand = random.randint(1,spike_mean)\n",
    "            try:\n",
    "                self.each_t_each_request_demand[time][0] = demand\n",
    "            except:\n",
    "                self.each_t_each_request_demand[time] = {}\n",
    "                self.each_t_each_request_demand[time][0] = demand\n",
    "                                \n",
    "\n",
    "                \n",
    "        for request in each_t_user_pairs[time]:\n",
    "            try:\n",
    "                self.each_t_each_request_demand[0][request] = 0\n",
    "            except:\n",
    "                self.each_t_each_request_demand[0]={}\n",
    "                self.each_t_each_request_demand[0][request] = 0\n"
   ]
  }
 ],
 "metadata": {
  "kernelspec": {
   "display_name": "Python 3 (ipykernel)",
   "language": "python",
   "name": "python3"
  },
  "language_info": {
   "codemirror_mode": {
    "name": "ipython",
    "version": 3
   },
   "file_extension": ".py",
   "mimetype": "text/x-python",
   "name": "python",
   "nbconvert_exporter": "python",
   "pygments_lexer": "ipython3",
   "version": "3.9.13"
  }
 },
 "nbformat": 4,
 "nbformat_minor": 5
}
