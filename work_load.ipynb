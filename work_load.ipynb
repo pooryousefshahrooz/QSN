{
 "cells": [
  {
   "cell_type": "code",
   "execution_count": null,
   "id": "205c6cc7",
   "metadata": {},
   "outputs": [],
   "source": [
    "class Work_load:\n",
    "    def __init__(self):\n",
    "        self.each_t_each_request_demand = {}\n",
    "        self.each_request_threshold = {}\n",
    "        self.each_t_real_requests = {}\n",
    "    def get_each_request_threshold(self,k,t):\n",
    "        return self.each_request_threshold[k,t]"
   ]
  }
 ],
 "metadata": {
  "kernelspec": {
   "display_name": "Python 3 (ipykernel)",
   "language": "python",
   "name": "python3"
  },
  "language_info": {
   "codemirror_mode": {
    "name": "ipython",
    "version": 3
   },
   "file_extension": ".py",
   "mimetype": "text/x-python",
   "name": "python",
   "nbconvert_exporter": "python",
   "pygments_lexer": "ipython3",
   "version": "3.9.13"
  }
 },
 "nbformat": 4,
 "nbformat_minor": 5
}
