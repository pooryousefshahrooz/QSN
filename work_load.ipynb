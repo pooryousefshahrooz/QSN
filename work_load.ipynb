{
 "cells": [
  {
   "cell_type": "code",
   "execution_count": null,
   "id": "ac3856cd",
   "metadata": {},
   "outputs": [],
   "source": [
    "class Work_load:\n",
    "    def __init__(self):\n",
    "        self.each_t_each_request_demand = {}\n",
    "        self.each_request_each_time_threshold = {}\n",
    "        self.each_t_real_requests = {}\n",
    "    def get_each_request_threshold(self,network,k,b,t):\n",
    "        if k in self.each_t_user_pairs[t]:\n",
    "            print(\"this is user pair %s all user pairs %s and time %s all data structure %s \"%(k,self.each_t_user_pairs,t,self.each_request_each_time_threshold))\n",
    "            return self.each_request_each_time_threshold[k][t]\n",
    "        else:\n",
    "            return network.each_storage_block_time_treshold[k][b][t]"
   ]
  }
 ],
 "metadata": {
  "kernelspec": {
   "display_name": "Python 3 (ipykernel)",
   "language": "python",
   "name": "python3"
  },
  "language_info": {
   "codemirror_mode": {
    "name": "ipython",
    "version": 3
   },
   "file_extension": ".py",
   "mimetype": "text/x-python",
   "name": "python",
   "nbconvert_exporter": "python",
   "pygments_lexer": "ipython3",
   "version": "3.9.13"
  }
 },
 "nbformat": 4,
 "nbformat_minor": 5
}
