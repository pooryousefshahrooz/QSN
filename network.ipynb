{
 "cells": [
  {
   "cell_type": "code",
   "execution_count": null,
   "id": "b16f4f55",
   "metadata": {},
   "outputs": [],
   "source": [
    "class Network:\n",
    "    def __init__(self):\n",
    "        pass\n",
    "    \n",
    "    \n",
    "    \n",
    "    def setup_network(self,number_of_user_pairs,distance_between_users,number_of_time_slots,\n",
    "                      number_of_storages,spike_mean,num_spikes,storage_capacity,\n",
    "                      fidelity_threshold_range,storage_node_selection_scheme,\n",
    "                      num_paths,number_of_storages\n",
    "                     ):\n",
    "        self.reset_variables()\n",
    "        self.get_user_pairs(number_of_user_pairs,distance_between_users,number_of_time_slots)\n",
    "        #work_load = Work_load(number_of_time_slots,\"time_demands_file.csv\")\n",
    "        \"\"\"we set the demands for each user pair\"\"\"\n",
    "        if setting_demands==\"python_library\":\n",
    "            self.set_each_user_pair_demands(number_of_time_slots,network.each_t_user_pairs,spike_mean,num_spikes)\n",
    "        else:\n",
    "            self.set_each_user_pair_demands_randomly(number_of_time_slots,network.each_t_user_pairs,spike_mean,num_spikes)\n",
    "        \"\"\"we set at least one demand for each time to avoid divided by zero error\"\"\"\n",
    "        self.check_demands_per_each_time(network.each_t_user_pairs)\n",
    "        for storage_capacity in storage_capacities:\n",
    "            for fidelity_threshold_range in fidelity_threshold_ranges:\n",
    "                self.fidelity_threshold_range = fidelity_threshold_range\n",
    "                self.set_each_request_fidelity_threshold()\n",
    "#                             print(\"self.each_request_threshold \",network.each_request_threshold)\n",
    "                for storage_node_selection_scheme in storage_node_selection_schemes:\n",
    "                    selected_storage_nodes = []\n",
    "                    selected_storage_pairs = []\n",
    "                    for num_paths in [1]:\n",
    "                        self.reset_storage_pairs()\n",
    "                        for number_of_storages in [0,2,4,8,10]:\n",
    "                            try:\n",
    "                                \"\"\"with new storage pairs, we will check the solution for each number of paths(real and virtual)\"\"\"\n",
    "\n",
    "                                pairs = []\n",
    "                                \"\"\"select and add new storage pairs\"\"\"\n",
    "                                available_flag = network.get_new_storage_pairs(number_of_storages,storage_node_selection_scheme)\n",
    "                                self.set_each_storage_fidelity_threshold()\n",
    "                                self.set_paths_in_the_network()\n"
   ]
  }
 ],
 "metadata": {
  "kernelspec": {
   "display_name": "Python 3 (ipykernel)",
   "language": "python",
   "name": "python3"
  },
  "language_info": {
   "codemirror_mode": {
    "name": "ipython",
    "version": 3
   },
   "file_extension": ".py",
   "mimetype": "text/x-python",
   "name": "python",
   "nbconvert_exporter": "python",
   "pygments_lexer": "ipython3",
   "version": "3.9.12"
  }
 },
 "nbformat": 4,
 "nbformat_minor": 5
}
